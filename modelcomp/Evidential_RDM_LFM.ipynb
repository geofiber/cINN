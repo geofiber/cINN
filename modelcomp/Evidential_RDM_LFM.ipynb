{
 "cells": [
  {
   "cell_type": "markdown",
   "metadata": {
    "toc": true
   },
   "source": [
    "<h1>Table of Contents<span class=\"tocSkip\"></span></h1>\n",
    "<div class=\"toc\"><ul class=\"toc-item\"><li><span><a href=\"#Model-definitions\" data-toc-modified-id=\"Model-definitions-1\"><span class=\"toc-item-num\">1&nbsp;&nbsp;</span>Model definitions</a></span></li><li><span><a href=\"#Utility-functions\" data-toc-modified-id=\"Utility-functions-2\"><span class=\"toc-item-num\">2&nbsp;&nbsp;</span>Utility functions</a></span><ul class=\"toc-item\"><li><span><a href=\"#Losses\" data-toc-modified-id=\"Losses-2.1\"><span class=\"toc-item-num\">2.1&nbsp;&nbsp;</span>Losses</a></span></li><li><span><a href=\"#Plots\" data-toc-modified-id=\"Plots-2.2\"><span class=\"toc-item-num\">2.2&nbsp;&nbsp;</span>Plots</a></span></li><li><span><a href=\"#Epoch-loop\" data-toc-modified-id=\"Epoch-loop-2.3\"><span class=\"toc-item-num\">2.3&nbsp;&nbsp;</span>Epoch loop</a></span></li></ul></li><li><span><a href=\"#LFM-Setup\" data-toc-modified-id=\"LFM-Setup-3\"><span class=\"toc-item-num\">3&nbsp;&nbsp;</span>LFM Setup</a></span></li><li><span><a href=\"#RDM-setup\" data-toc-modified-id=\"RDM-setup-4\"><span class=\"toc-item-num\">4&nbsp;&nbsp;</span>RDM setup</a></span></li><li><span><a href=\"#Data-generator\" data-toc-modified-id=\"Data-generator-5\"><span class=\"toc-item-num\">5&nbsp;&nbsp;</span>Data generator</a></span></li><li><span><a href=\"#Training-parameters\" data-toc-modified-id=\"Training-parameters-6\"><span class=\"toc-item-num\">6&nbsp;&nbsp;</span>Training parameters</a></span><ul class=\"toc-item\"><li><span><a href=\"#Create-test-set\" data-toc-modified-id=\"Create-test-set-6.1\"><span class=\"toc-item-num\">6.1&nbsp;&nbsp;</span>Create test set</a></span></li><li><span><a href=\"#Create-dataset,-if-using-the-ref-table-approach.\" data-toc-modified-id=\"Create-dataset,-if-using-the-ref-table-approach.-6.2\"><span class=\"toc-item-num\">6.2&nbsp;&nbsp;</span>Create dataset, if using the ref table approach.</a></span></li><li><span><a href=\"#Create-model-and-optimizer\" data-toc-modified-id=\"Create-model-and-optimizer-6.3\"><span class=\"toc-item-num\">6.3&nbsp;&nbsp;</span>Create model and optimizer</a></span></li><li><span><a href=\"#Manage-checkpoints\" data-toc-modified-id=\"Manage-checkpoints-6.4\"><span class=\"toc-item-num\">6.4&nbsp;&nbsp;</span>Manage checkpoints</a></span></li><li><span><a href=\"#Online-training\" data-toc-modified-id=\"Online-training-6.5\"><span class=\"toc-item-num\">6.5&nbsp;&nbsp;</span>Online training</a></span></li><li><span><a href=\"#Offline-training-(reference-table)\" data-toc-modified-id=\"Offline-training-(reference-table)-6.6\"><span class=\"toc-item-num\">6.6&nbsp;&nbsp;</span>Offline training (reference table)</a></span></li></ul></li><li><span><a href=\"#Evaluate-performance\" data-toc-modified-id=\"Evaluate-performance-7\"><span class=\"toc-item-num\">7&nbsp;&nbsp;</span>Evaluate performance</a></span></li></ul></div>"
   ]
  },
  {
   "cell_type": "code",
   "execution_count": 1,
   "metadata": {},
   "outputs": [
    {
     "name": "stderr",
     "output_type": "stream",
     "text": [
      "D:\\Anaconda3\\envs\\TensorFlowGpu\\lib\\site-packages\\h5py\\__init__.py:72: UserWarning: h5py is running against HDF5 1.10.2 when it was built against 1.10.3, this may cause problems\n",
      "  '{0}.{1}.{2}'.format(*version.hdf5_built_version_tuple)\n"
     ]
    }
   ],
   "source": [
    "import tensorflow as tf\n",
    "from tensorflow.keras.regularizers import l2\n",
    "import tensorflow.contrib.eager as tfe\n",
    "from functools import partial\n",
    "import pandas as pd\n",
    "import seaborn as sns\n",
    "import matplotlib.pyplot as plt\n",
    "import matplotlib.tri as tri\n",
    "from scipy import stats\n",
    "import matplotlib.pyplot as plt\n",
    "from tqdm import tqdm_notebook as tqdm\n",
    "import numpy as np\n",
    "np.set_printoptions(suppress=True)\n",
    "from sklearn.metrics import confusion_matrix\n",
    "from simulate_diffusion import simulate_diffusion"
   ]
  },
  {
   "cell_type": "code",
   "execution_count": 2,
   "metadata": {},
   "outputs": [],
   "source": [
    "tf.enable_eager_execution()"
   ]
  },
  {
   "cell_type": "code",
   "execution_count": 3,
   "metadata": {},
   "outputs": [],
   "source": [
    "%matplotlib inline"
   ]
  },
  {
   "cell_type": "markdown",
   "metadata": {
    "heading_collapsed": true
   },
   "source": [
    "# Model definitions"
   ]
  },
  {
   "cell_type": "code",
   "execution_count": 5,
   "metadata": {
    "code_folding": [
     0,
     42,
     87
    ],
    "hidden": true
   },
   "outputs": [],
   "source": [
    "class InvariantModule(tf.keras.Model):\n",
    "    \"\"\"Implements an invariant nn module as proposed by Bloem-Reddy and Teh (2019).\"\"\"\n",
    "\n",
    "    def __init__(self, h_dim, n_dense=3):\n",
    "        \"\"\"\n",
    "        Creates an invariant function with mean pooling.\n",
    "        ----------\n",
    "\n",
    "        Arguments:\n",
    "        h_dim   : int -- the number of hidden units in each of the modules\n",
    "        n_dense : int -- the number of dense layers of the modules\n",
    "        \"\"\"\n",
    "        \n",
    "        super(InvariantModule, self).__init__()\n",
    "        \n",
    "        self.module = tf.keras.Sequential([\n",
    "            tf.keras.layers.Dense(h_dim, activation='elu', kernel_initializer='glorot_uniform') \n",
    "            for _ in range(n_dense)\n",
    "        ])\n",
    "\n",
    "        self.post_pooling_dense = tf.keras.layers.Dense(h_dim, activation='elu', kernel_initializer='glorot_uniform')   \n",
    "        \n",
    "    def call(self, x):\n",
    "        \"\"\"\n",
    "        Transofrms the input into an invariant representation.\n",
    "        ----------\n",
    "\n",
    "        Arguments:\n",
    "        x : tf.Tensor of shape (batch_size, n, m) - the input where n is the 'time' or 'samples' dimensions \n",
    "            over which pooling is performed and m is the input dimensionality\n",
    "        ----------\n",
    "\n",
    "        Returns:\n",
    "        out : tf.Tensor of shape (batch_size, h_dim) -- the pooled and invariant representation of the input\n",
    "        \"\"\"\n",
    "\n",
    "        x = self.module(x)\n",
    "        x = tf.reduce_mean(x, axis=1)\n",
    "        out = self.post_pooling_dense(x)\n",
    "        return out\n",
    "    \n",
    "\n",
    "class EquivariantModule(tf.keras.Model):\n",
    "    \"\"\"Implements an equivariant nn module as proposed by Bloem-Reddy and Teh (2019).\"\"\"\n",
    "\n",
    "    def __init__(self, h_dim, n_dense=3):\n",
    "        \"\"\"\n",
    "        Creates an equivariant neural network consisting of a FC network with\n",
    "        equal number of hidden units in each layer and an invariant module\n",
    "        with the same FC structure.\n",
    "        ----------\n",
    "\n",
    "        Arguments:\n",
    "        h_dim   : int -- the number of hidden units in each of the modules\n",
    "        n_dense : int -- the number of dense layers of the modules\n",
    "        \"\"\"\n",
    "        \n",
    "        super(EquivariantModule, self).__init__()\n",
    "        \n",
    "        self.module = tf.keras.Sequential([\n",
    "            tf.keras.layers.Dense(h_dim, activation='elu') \n",
    "            for _ in range(n_dense)\n",
    "        ])\n",
    "        \n",
    "        self.invariant_module = InvariantModule(h_dim, n_dense)\n",
    "        \n",
    "    def call(self, x):\n",
    "        \"\"\"\n",
    "        Transofrms the input into an equivariant representation.\n",
    "        ----------\n",
    "\n",
    "        Arguments:\n",
    "        x : tf.Tensor of shape (batch_size, n, m) - the input where n is the 'time' or 'samples' dimensions \n",
    "            over which pooling is performed and m is the input dimensionality\n",
    "        ----------\n",
    "\n",
    "        Returns:\n",
    "        out : tf.Tensor of shape (batch_size, h_dim) -- the pooled and invariant representation of the input\n",
    "        \"\"\"\n",
    "\n",
    "        x_inv = self.invariant_module(x)\n",
    "        x_inv = tf.stack([x_inv] * int(x.shape[1]), axis=1) # Repeat x_inv n times\n",
    "        x = tf.concat((x_inv, x), axis=-1)\n",
    "        out = self.module(x)\n",
    "        return out\n",
    "    \n",
    "\n",
    "class InvariantNetwork(tf.keras.Model):\n",
    "    \"\"\"\n",
    "    Implements a network which parameterizes a \n",
    "    permutationally invariant function according to Bloem-Reddy and Teh (2019).\n",
    "    \"\"\"\n",
    "\n",
    "    def __init__(self, h_dim, n_dense=3, n_equiv=2):\n",
    "        \"\"\"\n",
    "        Creates a permutationally invariant network \n",
    "        consisting of two equivariant modules and one invariant module.\n",
    "        ----------\n",
    "\n",
    "        Arguments:\n",
    "        h_dim   : int -- the number of hidden units in each of the modules\n",
    "        n_dense : int -- the number of dense layers of the modules\n",
    "        n_equiv : int -- the number of equivariant modules \n",
    "        \"\"\"\n",
    "        \n",
    "        super(InvariantNetwork, self).__init__()\n",
    "        \n",
    "        self.equiv = tf.keras.Sequential([\n",
    "            EquivariantModule(h_dim, n_dense)\n",
    "            for _ in range(n_equiv)\n",
    "        ])\n",
    "        self.inv = InvariantModule(h_dim, n_dense)\n",
    "        \n",
    "    def call(self, x, **kwargs):\n",
    "        \"\"\"\n",
    "        Transofrms the input into a permutationally invariant \n",
    "        representation by first passing it through multiple equivariant \n",
    "        modules in order to increase representational power.\n",
    "        ----------\n",
    "\n",
    "        Arguments:\n",
    "        x : tf.Tensor of shape (batch_size, n, m) - the input where n is the 'time' or \n",
    "        'samples' dimensions over which pooling is performed and m is the input dimensionality\n",
    "        ----------\n",
    "\n",
    "        Returns:\n",
    "        out : tf.Tensor of shape (batch_size, h_dim) -- the pooled and invariant representation of the input\n",
    "        \"\"\"\n",
    "\n",
    "        x = self.equiv(x)\n",
    "        out = self.inv(x)\n",
    "        return out\n",
    "\n",
    "    \n",
    "class ModelSelector(tf.keras.Model):\n",
    "    \n",
    "    def __init__(self, n_cond, n_models, inv_h_dim=32, summary_dim=32, n_dense_inv=2, n_equiv=2):\n",
    "        super(ModelSelector, self).__init__()\n",
    "        \n",
    "        self.n_cond = n_cond\n",
    "        self.K = n_models\n",
    "        self.inv = InvariantNetwork(inv_h_dim, n_dense_inv, n_equiv)\n",
    "        \n",
    "        self.combiner = tf.keras.Sequential([\n",
    "            tf.keras.layers.Dense(summary_dim, activation='elu'),\n",
    "            tf.keras.layers.Dense(summary_dim, activation='elu'),\n",
    "        ])\n",
    "        \n",
    "        self.selector = tf.keras.layers.Dense(n_models, activation='relu')\n",
    "        \n",
    "    def call(self, x):\n",
    "        \"\"\"\n",
    "        Transofrms the input into a permutationally invariant representation \n",
    "        and then maps it to the parameters of a Dirichlet distribution.\n",
    "        ----------\n",
    "\n",
    "        Arguments:\n",
    "        x : tf.Tensor of shape (batch_size, n, c) - the input where n is the 'time' or \n",
    "        'samples' dimensions over which pooling is performed and c is the number of conditions\n",
    "        ----------\n",
    "\n",
    "        Returns:\n",
    "        out : tf.Tensor of shape (batch_size, h_dim) -- the pooled and invariant representation of the input\n",
    "        \"\"\"\n",
    "        \n",
    "        # Encode\n",
    "        x = tf.split(x, self.n_cond, axis=-1)\n",
    "        x = tf.concat([self.inv(x_cond) for x_cond in x], axis=-1)\n",
    "        x = self.combiner(x)\n",
    "        \n",
    "        # Compute evidence\n",
    "        evidence = self.selector(x)\n",
    "        alpha = evidence + 1\n",
    "        S_alpha = tf.reduce_sum(alpha, axis=1, keepdims=True)\n",
    "        \n",
    "        # Compute beliefs and uncertainties\n",
    "        belief = evidence / S_alpha\n",
    "        uncertainty = self.K / S_alpha\n",
    "        \n",
    "        # Comptue posterior probs (means of Dirichlet distro)\n",
    "        probs = alpha / S_alpha\n",
    "        \n",
    "        return evidence, alpha, belief, uncertainty, probs"
   ]
  },
  {
   "cell_type": "markdown",
   "metadata": {},
   "source": [
    "# Utility functions"
   ]
  },
  {
   "cell_type": "markdown",
   "metadata": {},
   "source": [
    "## Losses"
   ]
  },
  {
   "cell_type": "code",
   "execution_count": 6,
   "metadata": {
    "code_folding": []
   },
   "outputs": [],
   "source": [
    "def KL_dirichlet(alpha, K):\n",
    "    \"\"\"\n",
    "    Computes the KL divergence between a Dirichlet distribution \n",
    "    with parameter vector alpha and a uniform distribution.\n",
    "    \"\"\"\n",
    "    \n",
    "    beta = tf.constant(np.ones((1, K)), dtype=tf.float32)\n",
    "    S = tf.reduce_sum(alpha, axis=1, keepdims=True)\n",
    "    \n",
    "    kl = tf.reduce_sum((alpha - beta) * (tf.digamma(alpha) - tf.digamma(S)), axis=1, keepdims=True) + \\\n",
    "         tf.lgamma(S) - tf.reduce_sum(tf.lgamma(alpha), axis=1, keepdims=True) + \\\n",
    "         tf.reduce_sum(tf.lgamma(beta), axis=1, keepdims=True) - tf.lgamma(tf.reduce_sum(beta, axis=1, keepdims=True)\n",
    "                                                                          )\n",
    "    kl = tf.reduce_mean(kl)\n",
    "    return kl\n",
    "\n",
    "\n",
    "def ml_loss(m_true, alpha, K):\n",
    "    \n",
    "    S = tf.reduce_sum(alpha, axis=1, keepdims=True)\n",
    "    pred_mean = tf.reduce_sum((m_true - (alpha / S))**2, axis=1, keepdims=True)\n",
    "    pred_var = tf.reduce_sum(alpha * (S - alpha) / (S * S * (S + 1)), axis=1, keepdims=True)\n",
    "    log_likelihood = tf.reduce_mean(pred_mean + pred_var)\n",
    "    return log_likelihood"
   ]
  },
  {
   "cell_type": "markdown",
   "metadata": {},
   "source": [
    "## Plots"
   ]
  },
  {
   "cell_type": "code",
   "execution_count": 7,
   "metadata": {
    "code_folding": [
     0
    ]
   },
   "outputs": [],
   "source": [
    "def plot_dirichlet_samples(model, data_gen, m_samples, labels, n_val=36, figsize=(15, 9)):\n",
    "    \"\"\"Plots model probabilities.\"\"\"\n",
    "    \n",
    "    X_test, m_test = data_gen(n_val)\n",
    "    evidence, alpha, belief, uncertainty, probs = model(X_test)\n",
    "    m_test = tf.math.argmax(m_test, axis=1).numpy()\n",
    "    alpha = alpha.numpy()\n",
    "    probs = probs.numpy()\n",
    "\n",
    "    f, axarr = plt.subplots(int(np.sqrt(n_val)), int(np.sqrt(n_val)), figsize=figsize)\n",
    "\n",
    "    for i, ax in enumerate(axarr.flat):\n",
    "        \n",
    "        # Sample model probabilities\n",
    "        s = np.random.dirichlet(alpha[i], m_samples)\n",
    "        \n",
    "        # Plot model probabilites\n",
    "        for k in range(model.K):\n",
    "            \n",
    "            # Plot dirichlet samples\n",
    "            sns.distplot(s[:, k], ax=ax, label=labels[k])\n",
    "        \n",
    "        if i == 0:\n",
    "            ax.legend(fontsize=7)\n",
    "            \n",
    "        ax.spines['right'].set_visible(False)\n",
    "        ax.spines['top'].set_visible(False)\n",
    "        ax.set_title('True: {}'.format(labels[m_test[i]]))\n",
    "\n",
    "    f.tight_layout()"
   ]
  },
  {
   "cell_type": "markdown",
   "metadata": {},
   "source": [
    "## Epoch loop"
   ]
  },
  {
   "cell_type": "code",
   "execution_count": 8,
   "metadata": {
    "code_folding": []
   },
   "outputs": [],
   "source": [
    "def train_loop_online(model, optimizer, data_generator, iterations, batch_size, \n",
    "                      X_test, m_test, p_bar, transform=None, global_step=None, \n",
    "                      annealing_step=None, max_lambda=1.0, clip_value=5.):\n",
    "    \n",
    "    \"\"\"\n",
    "    Utility function to perform the # number of training loops given by the itertations argument.\n",
    "    ---------\n",
    "\n",
    "    Arguments:\n",
    "    model           : tf.keras.Model -- the invertible chaoin with an optional summary net\n",
    "                                        both models are jointly trained\n",
    "    optimizer       : tf.train.optimizers.Optimizer -- the optimizer used for backprop\n",
    "    data_generator  : callable -- a function providing batches of X, theta (data, params)\n",
    "    iterations      : int -- the number of training loops to perform\n",
    "    batch_size      : int -- the batch_size used for training\n",
    "    p_bar           : ProgressBar -- an instance for tracking the training progress\n",
    "    clip_value      : float       -- the value used for clipping the gradients\n",
    "    global_step     : tf.EagerVariavle -- a scalar tensor tracking the number of \n",
    "                                            steps and used for learning rate decay  \n",
    "    transform       : callable ot None -- a function to transform X and theta, if given\n",
    "    n_smooth        : int -- a value indicating how many values to use for computing the running ML loss\n",
    "    ----------\n",
    "\n",
    "    Returns:\n",
    "    losses : dict -- a dictionary with the ml_loss and decay\n",
    "    \"\"\"\n",
    "    \n",
    "    for it in range(iterations):\n",
    "\n",
    "        X_batch, m_batch = data_generator(batch_size)\n",
    "\n",
    "        with tf.GradientTape() as tape:\n",
    "\n",
    "            # Forward pass\n",
    "            evidence, alpha, belief, uncertainty, probs = model(X_batch)\n",
    "\n",
    "            # Compute ML and KL losses\n",
    "            ml = ml_loss(m_batch, alpha, model.K)\n",
    "            kl = KL_dirichlet(alpha * (1 - m_batch) + m_batch, model.K)\n",
    "    \n",
    "            # Annealing KL\n",
    "            lambd = tf.minimum(max_lambda, tf.cast(global_step / annealing_step, tf.float32))\n",
    "            kl = lambd * kl\n",
    "            \n",
    "            # Compute total loss\n",
    "            total_loss = ml + kl\n",
    "        \n",
    "        # Compute accuracies\n",
    "        m_hat_batch  = tf.math.argmax(probs, axis=1).numpy()\n",
    "        m_batch = tf.math.argmax(m_batch, axis=1).numpy()\n",
    "        batch_acc = np.mean(m_hat_batch == m_batch)\n",
    "        _, _, _, _, probs_test = model(X_test)\n",
    "        m_hat_test = tf.math.argmax(probs_test, axis=1).numpy()\n",
    "        test_acc = np.mean(m_hat_test == tf.math.argmax(m_test, axis=1).numpy())\n",
    "\n",
    "        # One step backprop\n",
    "        gradients = tape.gradient(total_loss, model.trainable_variables)\n",
    "        if clip_value is not None:\n",
    "            try:\n",
    "                gradients, _ = tf.clip_by_global_norm(gradients, clip_value)\n",
    "            except tf.errors.InvalidArgumentError as e:\n",
    "                print(str(e))\n",
    "                gradients = [tf.clip_by_value(grad, -clip_value, clip_value) for grad in gradients]\n",
    "        optimizer.apply_gradients(zip(gradients, model.trainable_variables), global_step=global_step)\n",
    "\n",
    "        # Update p-bar\n",
    "        p_bar.set_postfix_str(\"It: {0}, Loss:{1:.3f},ML:{2:.3f},KL.:{3:.3f},Batch Acc.:{4:.3f},Test Acc.:{5:.3f},Lambda:{6:.2f}\".format(\n",
    "        it, total_loss.numpy(), ml.numpy(), kl.numpy(), batch_acc, test_acc, lambd.numpy()))\n",
    "        p_bar.update(1)\n",
    "        \n",
    "        \n",
    "def train_loop_dataset(model, optimizer, dataset, batch_size, X_test, m_test, p_bar, \n",
    "                       transform=None, global_step=None, annealing_step=None, max_lambda=1.0, clip_value=5.):\n",
    "    \n",
    "    \"\"\"\n",
    "    Utility function to perform the # number of training loops given by the itertations argument.\n",
    "    ---------\n",
    "\n",
    "    Arguments:\n",
    "    model           : tf.keras.Model -- the invertible chaoin with an optional summary net\n",
    "                                        both models are jointly trained\n",
    "    optimizer       : tf.train.optimizers.Optimizer -- the optimizer used for backprop\n",
    "    dataset         : tf.Dataset -- the dataset with X and o\n",
    "    batch_size      : int -- the batch_size used for training\n",
    "    p_bar           : ProgressBar -- an instance for tracking the training progress\n",
    "    clip_value      : float       -- the value used for clipping the gradients\n",
    "    global_step     : tf.EagerVariavle -- a scalar tensor tracking the number of \n",
    "                                            steps and used for learning rate decay  \n",
    "    transform       : callable ot None -- a function to transform X and theta, if given\n",
    "    n_smooth        : int -- a value indicating how many values to use for computing the running ML loss\n",
    "    ----------\n",
    "\n",
    "    Returns:\n",
    "    losses : dict -- a dictionary with the ml_loss and decay\n",
    "    \"\"\"\n",
    "    \n",
    "    for i, (X_batch, m_batch) in enumerate(dataset):\n",
    "\n",
    "        with tf.GradientTape() as tape:\n",
    "\n",
    "            # Forward pass\n",
    "            evidence, alpha, belief, uncertainty, probs = model(X_batch)\n",
    "\n",
    "            # Compute ML and KL losses\n",
    "            ml = ml_loss(m_batch, alpha, model.K)\n",
    "            kl = KL_dirichlet(alpha * (1 - m_batch) + m_batch, model.K)\n",
    "    \n",
    "            # Annealing KL\n",
    "            lambd = tf.minimum(max_lambda, tf.cast(global_step / annealing_step, tf.float32))\n",
    "            kl = lambd * kl\n",
    "            \n",
    "            # Compute total loss\n",
    "            total_loss = ml + kl\n",
    "        \n",
    "        # Compute accuracies\n",
    "        m_hat_batch  = tf.math.argmax(probs, axis=1).numpy()\n",
    "        m_batch = tf.math.argmax(m_batch, axis=1).numpy()\n",
    "        batch_acc = np.mean(m_hat_batch == m_batch)\n",
    "        _, _, _, _, probs_test = model(X_test)\n",
    "        m_hat_test = tf.math.argmax(probs_test, axis=1).numpy()\n",
    "        test_acc = np.mean(m_hat_test == tf.math.argmax(m_test, axis=1).numpy())\n",
    "\n",
    "        # One step backprop\n",
    "        gradients = tape.gradient(total_loss, model.trainable_variables)\n",
    "        if clip_value is not None:\n",
    "            try:\n",
    "                gradients, _ = tf.clip_by_global_norm(gradients, clip_value)\n",
    "            except tf.errors.InvalidArgumentError as e:\n",
    "                print(str(e))\n",
    "                gradients = [tf.clip_by_value(grad, -clip_value, clip_value) for grad in gradients]\n",
    "        optimizer.apply_gradients(zip(gradients, model.trainable_variables), global_step=global_step)\n",
    "\n",
    "        # Update p-bar\n",
    "        p_bar.set_postfix_str(\"Batch: {0}, Loss:{1:.3f},ML:{2:.3f},KL.:{3:.3f},Batch Acc.:{4:.3f},Test Acc.:{5:.3f},Lambda:{6:.2f}\".format(\n",
    "        i+1, total_loss.numpy(), ml.numpy(), kl.numpy(), batch_acc, test_acc, lambd.numpy()))\n",
    "        p_bar.update(1)"
   ]
  },
  {
   "cell_type": "markdown",
   "metadata": {},
   "source": [
    "# LFM Setup"
   ]
  },
  {
   "cell_type": "code",
   "execution_count": 10,
   "metadata": {},
   "outputs": [],
   "source": [
    "parameter_bounds_levy = {\n",
    "        'v1': [0.0, 6.0],\n",
    "        'v2': [-6.0, 0.0],\n",
    "        'sv': [0.0, 0.0],\n",
    "        'zr': [0.3, 0.7],\n",
    "        'szr': [0.0, 0.0],\n",
    "        'a': [0.6, 3.0],\n",
    "        'ndt': [0.3, 1.0],\n",
    "        'sndt': [0.0, 0.0],\n",
    "        'alpha': [1.0, 2.0],\n",
    "    }\n",
    "\n",
    "# --- Training hyperparameters --- #\n",
    "param_names_levy = ['v1', 'v2', 'zr', 'a', 'ndt', 'alpha']\n",
    "param_indices_levy = [0, 1, 3, 5, 6, 8]\n",
    "\n",
    "generate_levy = partial(simulate_diffusion, pbounds=parameter_bounds_levy)\n",
    "#transform_levy = partial(index_parameters, indices=param_indices_levy)"
   ]
  },
  {
   "cell_type": "markdown",
   "metadata": {},
   "source": [
    "# RDM setup"
   ]
  },
  {
   "cell_type": "code",
   "execution_count": 11,
   "metadata": {},
   "outputs": [],
   "source": [
    "parameter_bounds_diff = {\n",
    "        'v1': [0.0, 6.0],\n",
    "        'v2': [-6.0, 0.0],\n",
    "        'sv': [0.0, 2.0],\n",
    "        'zr': [0.3, 0.7],\n",
    "        'szr': [0.0, 0.6],\n",
    "        'a': [0.6, 3.0],\n",
    "        'ndt': [0.3, 1.0],\n",
    "        'sndt': [0.0, 0.2],\n",
    "        'alpha': [2.0, 2.0],\n",
    "    }\n",
    "\n",
    "# --- Training hyperparameters --- #\n",
    "param_names_diff = list(parameter_bounds_diff.keys())\n",
    "param_indices_diff = [0, 1, 2, 3, 4, 5, 6, 7]\n",
    "\n",
    "generate_diff = partial(simulate_diffusion, pbounds=parameter_bounds_diff)\n",
    "#transform_diff = partial(index_parameters, indices=param_indices_diff)"
   ]
  },
  {
   "cell_type": "markdown",
   "metadata": {},
   "source": [
    "# Data generator"
   ]
  },
  {
   "cell_type": "code",
   "execution_count": 12,
   "metadata": {
    "code_folding": [
     0
    ]
   },
   "outputs": [],
   "source": [
    "def data_generator(batch_size, n_samples, to_tensor=True, return_params=False):\n",
    "    \"\"\"Generates diffusion and Levy samples.\"\"\"\n",
    "    \n",
    "    # Generate samples from models\n",
    "    batch_diff, params_diff = generate_diff(batch_size=batch_size//2, n_points=n_samples)\n",
    "    batch_levy, params_levy = generate_levy(batch_size=batch_size//2, n_points=n_samples)\n",
    "    \n",
    "    X = np.r_[batch_diff, batch_levy].astype(np.float32)\n",
    "    m = np.r_[np.zeros(batch_size//2), np.ones(batch_size//2)].astype(np.int32)\n",
    "    params = np.r_[params_diff, params_levy]\n",
    "    \n",
    "    # Shuffle indices and data\n",
    "    shuffle_idx = np.random.permutation(batch_size)\n",
    "    X = X[shuffle_idx]\n",
    "    m = m[shuffle_idx]\n",
    "    params = params[shuffle_idx]\n",
    "    \n",
    "    # Convert to one-hot\n",
    "    m_oh = np.zeros((batch_size, 2))\n",
    "    m_oh[np.arange(batch_size), m] = 1\n",
    "    m_oh.astype(np.float32)\n",
    "    \n",
    "    if to_tensor:\n",
    "        X, m_oh = tf.convert_to_tensor(X, dtype=tf.float32), tf.convert_to_tensor(m_oh, dtype=tf.float32)\n",
    "        params = tf.convert_to_tensor(params, dtype=tf.float32)\n",
    "    if return_params:\n",
    "        return X, m_oh, params\n",
    "    else:\n",
    "        return X, m_oh"
   ]
  },
  {
   "cell_type": "code",
   "execution_count": 13,
   "metadata": {},
   "outputs": [],
   "source": [
    "def create_grid(n_thousand=100, n_trials=500):\n",
    "    \"\"\"\n",
    "    Creates a reference table with RDM and LFM datasets.\n",
    "    \"\"\"\n",
    "    \n",
    "    Xs = []\n",
    "    ohs = []\n",
    "    for i in range(n_thousand):\n",
    "\n",
    "        X, oh = data_generator(1000, n_trials, to_tensor=False)\n",
    "        Xs.append(X)\n",
    "        ohs.append(oh)\n",
    "        print(i+1, 'ready')\n",
    "        \n",
    "    return np.concatenate(Xs, axis=0), np.concatenate(ohs, axis=0)"
   ]
  },
  {
   "cell_type": "code",
   "execution_count": 14,
   "metadata": {},
   "outputs": [],
   "source": [
    "# np.save('X.npy', X)\n",
    "# np.save('Y.npy', ohs.astype(np.float32))"
   ]
  },
  {
   "cell_type": "markdown",
   "metadata": {},
   "source": [
    "# Training parameters"
   ]
  },
  {
   "cell_type": "code",
   "execution_count": 15,
   "metadata": {},
   "outputs": [],
   "source": [
    "nn_params = dict(n_cond=2, n_models=2, summary_dim=128, inv_h_dim=128, n_dense_inv=3, n_equiv=4)\n",
    "m_samples = 1000\n",
    "n_trials = 500\n",
    "n_test = 300\n",
    "epochs = 100\n",
    "batch_size = 32\n",
    "learning_rate = 0.001\n",
    "iterations_per_epoch = 1000\n",
    "clip_value = 5.\n",
    "global_step = tfe.Variable(0, dtype=tf.int32)\n",
    "annealing_step = tfe.Variable(int((X.shape[0] // batch_size) * 10), dtype=tf.int32)\n",
    "data_gen = partial(data_generator, n_samples=n_trials)\n",
    "max_lambda = 0.1"
   ]
  },
  {
   "cell_type": "markdown",
   "metadata": {},
   "source": [
    "## Create test set"
   ]
  },
  {
   "cell_type": "code",
   "execution_count": 24,
   "metadata": {},
   "outputs": [],
   "source": [
    "X_test, m_test, params_test = data_gen(n_test, return_params=True)"
   ]
  },
  {
   "cell_type": "markdown",
   "metadata": {},
   "source": [
    "## Create dataset, if using the ref table approach."
   ]
  },
  {
   "cell_type": "code",
   "execution_count": 25,
   "metadata": {},
   "outputs": [],
   "source": [
    "X = np.load('X.npy')\n",
    "ohs = np.load('Y.npy')\n",
    "dataset = tf.data.Dataset.from_tensor_slices((X, ohs)).shuffle(X.shape[0]).batch(batch_size)"
   ]
  },
  {
   "cell_type": "markdown",
   "metadata": {},
   "source": [
    "## Create model and optimizer"
   ]
  },
  {
   "cell_type": "code",
   "execution_count": 29,
   "metadata": {},
   "outputs": [],
   "source": [
    "model = ModelSelector(**nn_params)\n",
    "optimizer = tf.train.AdamOptimizer(learning_rate=learning_rate)"
   ]
  },
  {
   "cell_type": "markdown",
   "metadata": {},
   "source": [
    "## Manage checkpoints"
   ]
  },
  {
   "cell_type": "code",
   "execution_count": 27,
   "metadata": {},
   "outputs": [
    {
     "name": "stdout",
     "output_type": "stream",
     "text": [
      "Initializing from scratch.\n"
     ]
    }
   ],
   "source": [
    "checkpoint = tf.train.Checkpoint(step=global_step, optimizer=optimizer, net=model)\n",
    "manager = tf.train.CheckpointManager(checkpoint, './checkpoints/rdm_edl', max_to_keep=2)\n",
    "checkpoint.restore(manager.latest_checkpoint)\n",
    "if manager.latest_checkpoint:\n",
    "    print(\"Restored from {}\".format(manager.latest_checkpoint))\n",
    "else:\n",
    "    print(\"Initializing from scratch.\")"
   ]
  },
  {
   "cell_type": "markdown",
   "metadata": {},
   "source": [
    "## Online training"
   ]
  },
  {
   "cell_type": "code",
   "execution_count": 36,
   "metadata": {},
   "outputs": [],
   "source": [
    "# %%time\n",
    "# for ep in range(1, epochs+1):\n",
    "#     with tqdm(total=iterations_per_epoch, desc='Training epoch {}'.format(ep)) as p_bar:\n",
    "\n",
    "#         train_loop_online(model, optimizer, data_gen, iterations_per_epoch, batch_size, X_test, m_test, \n",
    "#                           p_bar, global_step=global_step, annealing_step=annealing_step, clip_value=clip_value)\n",
    "   \n",
    "#         manager.save()"
   ]
  },
  {
   "cell_type": "markdown",
   "metadata": {},
   "source": [
    "## Offline training (reference table)"
   ]
  },
  {
   "cell_type": "code",
   "execution_count": 42,
   "metadata": {},
   "outputs": [],
   "source": [
    "%%time\n",
    "for ep in range(1, epochs+1):\n",
    "    with tqdm(total=X.shape[0] // batch_size, desc='Training epoch {}'.format(ep)) as p_bar:\n",
    "\n",
    "        train_loop_dataset(model, optimizer, dataset, batch_size, X_test, m_test, \n",
    "                          p_bar, global_step=global_step, annealing_step=annealing_step, \n",
    "                          max_lambda=max_lambda, clip_value=clip_value)\n",
    "   \n",
    "        manager.save()"
   ]
  },
  {
   "cell_type": "markdown",
   "metadata": {},
   "source": [
    "# Evaluate performance"
   ]
  },
  {
   "cell_type": "code",
   "execution_count": 40,
   "metadata": {},
   "outputs": [
    {
     "data": {
      "image/png": "[encoded data removed]",
      "text/plain": [
       "<Figure size 1080x648 with 36 Axes>"
      ]
     },
     "metadata": {
      "needs_background": "light"
     },
     "output_type": "display_data"
    }
   ],
   "source": [
    "plot_dirichlet_samples(model, data_gen, m_samples, ['RDM', 'LFM'])"
   ]
  },
  {
   "cell_type": "code",
   "execution_count": 34,
   "metadata": {},
   "outputs": [],
   "source": [
    "X_test_levy = tf.boolean_mask(X_test, tf.cast(tf.math.argmax(m_test, axis=1), dtype=tf.bool))\n",
    "params_test_levy = tf.boolean_mask(params_test, tf.cast(tf.math.argmax(m_test, axis=1), dtype=tf.bool))"
   ]
  },
  {
   "cell_type": "code",
   "execution_count": 35,
   "metadata": {},
   "outputs": [],
   "source": [
    "evidence, alpha, belief, uncertainty, probs = model(X_test_levy)"
   ]
  },
  {
   "cell_type": "code",
   "execution_count": 37,
   "metadata": {},
   "outputs": [
    {
     "data": {
      "text/plain": [
       "<tf.Tensor: id=238939163, shape=(150, 2), dtype=float32, numpy=\n",
       "array([[7.36916983e+13, 2.07576870e+15],\n",
       "       [1.00000000e+00, 1.02662389e+15],\n",
       "       [1.17056901e+14, 3.39928408e+14],\n",
       "       [2.07625027e+14, 3.11685750e+15],\n",
       "       [4.98491395e+13, 1.55373361e+14],\n",
       "       [2.01688107e+14, 1.25012405e+14],\n",
       "       [2.24901399e+14, 1.90671651e+15],\n",
       "       [2.36608385e+13, 3.32417517e+14],\n",
       "       [1.00000000e+00, 2.81384943e+15],\n",
       "       [1.00000000e+00, 7.98479383e+14],\n",
       "       [3.21277395e+12, 4.71275353e+14],\n",
       "       [1.44563130e+14, 1.13724922e+15],\n",
       "       [7.55203624e+12, 4.27209324e+14],\n",
       "       [4.23399050e+13, 6.22372571e+14],\n",
       "       [2.56783478e+14, 9.82096198e+13],\n",
       "       [8.12046698e+13, 2.88891070e+15],\n",
       "       [4.33598969e+12, 9.31505124e+14],\n",
       "       [1.74555451e+13, 6.15901464e+14],\n",
       "       [3.05101760e+14, 4.25207131e+14],\n",
       "       [1.11171059e+14, 1.40487494e+15],\n",
       "       [7.20345707e+13, 1.27924527e+15],\n",
       "       [6.46252614e+13, 1.22302361e+15],\n",
       "       [6.55730776e+13, 2.45654178e+14],\n",
       "       [4.55135503e+13, 9.93280980e+14],\n",
       "       [1.00000000e+00, 7.33766037e+14],\n",
       "       [3.47909128e+11, 3.48391695e+15],\n",
       "       [1.79805165e+14, 5.09046201e+14],\n",
       "       [1.86761032e+13, 1.76416963e+15],\n",
       "       [4.64680691e+13, 6.19322272e+14],\n",
       "       [6.08418272e+13, 6.85750853e+14],\n",
       "       [1.19917232e+14, 4.84772623e+14],\n",
       "       [4.82385141e+13, 7.08810532e+14],\n",
       "       [4.13612196e+14, 1.34609859e+15],\n",
       "       [3.69761754e+14, 2.93280097e+15],\n",
       "       [1.00000000e+00, 1.03348604e+15],\n",
       "       [4.17758760e+13, 6.39015703e+14],\n",
       "       [4.90118683e+13, 2.47708615e+14],\n",
       "       [2.20046039e+14, 2.27662425e+14],\n",
       "       [1.50213914e+14, 8.05332540e+13],\n",
       "       [6.60842324e+14, 1.69382263e+15],\n",
       "       [2.89395148e+13, 1.65892817e+15],\n",
       "       [8.50435317e+13, 8.05743750e+13],\n",
       "       [3.64725561e+13, 1.14021794e+14],\n",
       "       [5.51645348e+13, 1.86931170e+14],\n",
       "       [1.67417540e+14, 1.70093690e+14],\n",
       "       [1.72629667e+14, 1.93313901e+15],\n",
       "       [1.00000000e+00, 8.09911915e+14],\n",
       "       [2.16109102e+13, 2.71456227e+14],\n",
       "       [1.00000000e+00, 6.10555572e+14],\n",
       "       [1.90851435e+14, 3.72327796e+14],\n",
       "       [8.49046248e+13, 3.77177451e+14],\n",
       "       [5.56408232e+13, 1.90131659e+14],\n",
       "       [1.05845241e+14, 1.14569675e+15],\n",
       "       [3.68294704e+12, 4.37525131e+14],\n",
       "       [1.61716256e+14, 7.14459153e+14],\n",
       "       [3.52601380e+13, 2.90475537e+15],\n",
       "       [1.49672329e+14, 8.34122243e+13],\n",
       "       [7.86530566e+12, 4.98242714e+14],\n",
       "       [1.00000000e+00, 1.55843184e+15],\n",
       "       [1.00000000e+00, 2.95475765e+15],\n",
       "       [8.91234655e+12, 5.80978616e+14],\n",
       "       [1.00000000e+00, 7.04758231e+14],\n",
       "       [1.00000000e+00, 3.77755742e+15],\n",
       "       [9.46846092e+13, 6.78738983e+14],\n",
       "       [1.00000000e+00, 2.00364788e+15],\n",
       "       [1.00000000e+00, 4.18099309e+15],\n",
       "       [7.08726781e+14, 9.89950502e+14],\n",
       "       [1.58402521e+14, 1.27962746e+14],\n",
       "       [3.51918212e+14, 1.80645318e+14],\n",
       "       [4.56356717e+13, 1.35392922e+14],\n",
       "       [1.62742485e+14, 1.94233353e+14],\n",
       "       [8.16113076e+13, 2.99856732e+14],\n",
       "       [3.80264241e+13, 1.20668901e+14],\n",
       "       [8.80888733e+13, 9.41750097e+14],\n",
       "       [8.40423755e+12, 2.21690341e+14],\n",
       "       [1.20089769e+14, 5.93306380e+14],\n",
       "       [5.34568407e+13, 2.22875356e+15],\n",
       "       [1.51052658e+14, 1.57812634e+14],\n",
       "       [3.88348930e+14, 1.06236164e+15],\n",
       "       [2.87692365e+13, 5.15792622e+14],\n",
       "       [1.00000000e+00, 5.35715532e+14],\n",
       "       [1.00000000e+00, 3.44317515e+15],\n",
       "       [7.70117101e+12, 2.51756085e+14],\n",
       "       [6.08333547e+13, 1.58941607e+14],\n",
       "       [1.00000000e+00, 6.32500828e+15],\n",
       "       [1.42317495e+13, 8.44733899e+14],\n",
       "       [1.66411880e+14, 4.90861142e+14],\n",
       "       [1.00000000e+00, 1.05550372e+15],\n",
       "       [4.32461683e+12, 1.17457356e+15],\n",
       "       [1.57318277e+14, 2.36770917e+15],\n",
       "       [4.61951784e+14, 1.11636347e+15],\n",
       "       [6.48862520e+13, 2.00927160e+15],\n",
       "       [2.71718891e+14, 1.35847212e+15],\n",
       "       [1.90557096e+14, 1.31204647e+15],\n",
       "       [1.00000000e+00, 2.52655317e+15],\n",
       "       [2.21702416e+12, 2.77981960e+14],\n",
       "       [1.06936402e+13, 4.23738319e+14],\n",
       "       [2.80881843e+13, 1.00975721e+14],\n",
       "       [1.56700372e+13, 2.31986136e+15],\n",
       "       [2.06548047e+14, 6.16830989e+14],\n",
       "       [9.90753157e+13, 7.43558831e+14],\n",
       "       [3.68380100e+13, 2.67917074e+14],\n",
       "       [1.79948455e+13, 1.62332013e+14],\n",
       "       [4.19160580e+13, 1.63057923e+15],\n",
       "       [1.00000000e+00, 3.82614544e+14],\n",
       "       [2.78476326e+13, 1.13674832e+14],\n",
       "       [3.34274620e+14, 2.18882177e+15],\n",
       "       [1.85998793e+14, 2.73591242e+15],\n",
       "       [8.13093093e+13, 1.06871014e+15],\n",
       "       [1.16234213e+14, 2.09863829e+14],\n",
       "       [1.00000000e+00, 5.45777439e+15],\n",
       "       [4.08251137e+14, 7.39340301e+14],\n",
       "       [2.36939823e+14, 1.18291103e+15],\n",
       "       [8.83442091e+14, 1.66538484e+15],\n",
       "       [3.91142672e+13, 1.44545111e+14],\n",
       "       [1.83030384e+14, 1.41696474e+15],\n",
       "       [1.43304593e+13, 1.92665975e+14],\n",
       "       [4.84926344e+12, 4.93387455e+14],\n",
       "       [2.00680795e+13, 1.50661373e+15],\n",
       "       [1.84358015e+14, 1.33745634e+14],\n",
       "       [1.08960049e+13, 4.75625853e+14],\n",
       "       [1.00000000e+00, 4.71323638e+14],\n",
       "       [1.00000000e+00, 4.23468716e+15],\n",
       "       [1.00000000e+00, 3.78382458e+15],\n",
       "       [7.70813838e+13, 1.68027375e+14],\n",
       "       [1.00000000e+00, 4.56963381e+14],\n",
       "       [1.00000000e+00, 4.38155545e+15],\n",
       "       [1.00000000e+00, 4.00380690e+15],\n",
       "       [4.02654526e+14, 4.82948772e+13],\n",
       "       [2.27728595e+14, 1.09416594e+15],\n",
       "       [7.59980035e+13, 3.93196069e+14],\n",
       "       [6.52521924e+13, 5.18991433e+14],\n",
       "       [7.82096767e+12, 3.29351407e+15],\n",
       "       [5.74053417e+13, 2.17658393e+15],\n",
       "       [1.72483842e+13, 1.67041663e+14],\n",
       "       [1.00000000e+00, 2.46674575e+15],\n",
       "       [1.00000000e+00, 3.89385171e+15],\n",
       "       [4.70588745e+12, 3.02004451e+14],\n",
       "       [4.45620641e+13, 4.27783742e+14],\n",
       "       [1.29370253e+14, 1.10155778e+14],\n",
       "       [1.17916599e+14, 6.84903268e+14],\n",
       "       [1.00000000e+00, 2.35749332e+15],\n",
       "       [1.04344301e+14, 1.36811969e+15],\n",
       "       [1.07686805e+13, 8.42104574e+14],\n",
       "       [1.04988169e+13, 9.81609944e+14],\n",
       "       [1.59932150e+14, 2.05138188e+15],\n",
       "       [1.00000000e+00, 3.76584075e+15],\n",
       "       [1.00000000e+00, 5.99692969e+15],\n",
       "       [1.00000000e+00, 4.33521550e+14],\n",
       "       [9.20345305e+13, 1.80122708e+14]], dtype=float32)>"
      ]
     },
     "execution_count": 37,
     "metadata": {},
     "output_type": "execute_result"
    }
   ],
   "source": [
    "alpha"
   ]
  },
  {
   "cell_type": "code",
   "execution_count": null,
   "metadata": {},
   "outputs": [],
   "source": []
  }
 ],
 "metadata": {
  "kernelspec": {
   "display_name": "Python 3",
   "language": "python",
   "name": "python3"
  },
  "language_info": {
   "codemirror_mode": {
    "name": "ipython",
    "version": 3
   },
   "file_extension": ".py",
   "mimetype": "text/x-python",
   "name": "python",
   "nbconvert_exporter": "python",
   "pygments_lexer": "ipython3",
   "version": "3.6.8"
  },
  "toc": {
   "base_numbering": 1,
   "nav_menu": {},
   "number_sections": true,
   "sideBar": true,
   "skip_h1_title": false,
   "title_cell": "Table of Contents",
   "title_sidebar": "Contents",
   "toc_cell": true,
   "toc_position": {
    "height": "402.8px",
    "left": "26px",
    "top": "110.783px",
    "width": "254.233px"
   },
   "toc_section_display": true,
   "toc_window_display": true
  }
 },
 "nbformat": 4,
 "nbformat_minor": 2
}
