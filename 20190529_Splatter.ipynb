{
 "cells": [
  {
   "cell_type": "code",
   "execution_count": 1,
   "metadata": {},
   "outputs": [
    {
     "name": "stderr",
     "output_type": "stream",
     "text": [
      "D:\\Anaconda3\\envs\\TensorFlowGpu\\lib\\site-packages\\h5py\\__init__.py:72: UserWarning: h5py is running against HDF5 1.10.2 when it was built against 1.10.3, this may cause problems\n",
      "  '{0}.{1}.{2}'.format(*version.hdf5_built_version_tuple)\n"
     ]
    }
   ],
   "source": [
    "import numpy as np\n",
    "import tensorflow as tf\n",
    "import matplotlib.pyplot as plt\n",
    "from sklearn.metrics import r2_score\n",
    "import pandas as pd\n",
    "from functools import partial\n",
    "import seaborn as sns\n",
    "import scipy \n",
    "from time import time\n",
    "import os\n",
    "from numba import jit, prange, vectorize\n",
    "np.set_printoptions(suppress=True)"
   ]
  },
  {
   "cell_type": "code",
   "execution_count": 2,
   "metadata": {},
   "outputs": [],
   "source": [
    "from tqdm import tqdm_notebook as tqdm"
   ]
  },
  {
   "cell_type": "code",
   "execution_count": 3,
   "metadata": {},
   "outputs": [],
   "source": [
    "tf.enable_eager_execution()"
   ]
  },
  {
   "cell_type": "code",
   "execution_count": 4,
   "metadata": {},
   "outputs": [],
   "source": [
    "%matplotlib inline"
   ]
  },
  {
   "cell_type": "markdown",
   "metadata": {},
   "source": [
    "# Model definitions\n"
   ]
  },
  {
   "cell_type": "code",
   "execution_count": 5,
   "metadata": {
    "code_folding": [
     0,
     54,
     93,
     124
    ]
   },
   "outputs": [],
   "source": [
    "class ResidualNetwork(tf.keras.Model):\n",
    "    \n",
    "    def __init__(self, n_params, logvar=False):\n",
    "        super(ResidualNetwork, self).__init__()\n",
    "        \n",
    "        # Initial simple 1D convolution \n",
    "        self.conv_part = tf.keras.Sequential([\n",
    "            tf.keras.layers.BatchNormalization(),\n",
    "            tf.keras.layers.Conv1D(128, kernel_size=1, strides=1, kernel_initializer='glorot_uniform'),\n",
    "            tf.keras.layers.BatchNormalization(),\n",
    "            tf.keras.layers.ELU(),\n",
    "        ])\n",
    "        \n",
    "        # Sequence of residual blocks\n",
    "        self.residual_part = tf.keras.Sequential([\n",
    "            ResidualBlock(128),\n",
    "            ResidualBlock(128),\n",
    "            ResidualBlock(128),\n",
    "            ResidualBlock(256),\n",
    "            ResidualBlock(256)\n",
    "        ])\n",
    "        \n",
    "        # Global average pooling\n",
    "        self.avg_pool = tf.keras.layers.GlobalAveragePooling1D()\n",
    "        \n",
    "        # Sequence of FC layers\n",
    "        self.dense_part = tf.keras.Sequential([\n",
    "            tf.keras.layers.Dense(128, activation='elu', kernel_initializer='glorot_uniform'),\n",
    "            tf.keras.layers.Dense(128, activation='elu', kernel_initializer='glorot_uniform')\n",
    "        ])\n",
    "        \n",
    "        # Mean and variance \n",
    "        self.mean_part = tf.keras.layers.Dense(n_params, kernel_initializer='glorot_uniform')\n",
    "        if logvar:\n",
    "            self.var_part = tf.keras.layers.Dense(n_params, kernel_initializer='glorot_uniform')   \n",
    "        else:\n",
    "            self.var_part = tf.keras.layers.Dense(n_params, activation='softplus', kernel_initializer='glorot_uniform') \n",
    "        \n",
    "    def call(self, x, training=True):\n",
    "        \n",
    "        x = self.conv_part(x, training=training)\n",
    "        x = self.residual_part(x, training=training)\n",
    "        summary = self.avg_pool(x)\n",
    "        mean = self.mean_part(self.dense_part(summary))\n",
    "        var = self.var_part(self.dense_part(summary))\n",
    "        return mean, var\n",
    "    \n",
    "    def predict_given_summary(self, summary):\n",
    "        \n",
    "        mean = self.mean_part(self.dense_part(summary))\n",
    "        var = self.var_part(self.dense_part(summary))\n",
    "        return mean, var    \n",
    "    \n",
    "    \n",
    "class ConvNetwork(tf.keras.Model):\n",
    "    def __init__(self, n_params):\n",
    "        super(ConvNetwork, self).__init__()\n",
    "        \n",
    "        self.conv_part = tf.keras.Sequential([\n",
    "            tf.keras.layers.Conv2D(64, kernel_size=1, strides=1, kernel_initializer='glorot_uniform'),\n",
    "            tf.keras.layers.BatchNormalization(),\n",
    "            tf.keras.layers.Activation('elu'),\n",
    "            tf.keras.layers.Conv2D(64, kernel_size=3, strides=2, kernel_initializer='glorot_uniform'),\n",
    "            tf.keras.layers.BatchNormalization(),\n",
    "            tf.keras.layers.Activation('elu'),\n",
    "            tf.keras.layers.Conv2D(128, kernel_size=2, strides=2, kernel_initializer='glorot_uniform'),\n",
    "            tf.keras.layers.BatchNormalization(),\n",
    "            tf.keras.layers.Activation('elu'),\n",
    "            tf.keras.layers.Conv2D(128, kernel_size=2, strides=2, kernel_initializer='glorot_uniform'),\n",
    "            tf.keras.layers.BatchNormalization(),\n",
    "            tf.keras.layers.Activation('elu'),\n",
    "            tf.keras.layers.Conv2D(256, kernel_size=2, strides=2, kernel_initializer='glorot_uniform'),\n",
    "            tf.keras.layers.BatchNormalization(),\n",
    "            tf.keras.layers.Activation('elu'),\n",
    "            tf.keras.layers.GlobalAveragePooling2D()\n",
    "        ])\n",
    "        \n",
    "        self.dense_part = tf.keras.Sequential([\n",
    "            tf.keras.layers.Dense(128, activation='elu', kernel_initializer='glorot_uniform'),\n",
    "            tf.keras.layers.Dense(128, activation='elu', kernel_initializer='glorot_uniform')\n",
    "        ])\n",
    "        \n",
    "        self.mean_part = tf.keras.layers.Dense(n_params, kernel_initializer='glorot_uniform')\n",
    "        self.var_part = tf.keras.layers.Dense(n_params, activation='softplus', kernel_initializer='glorot_uniform')\n",
    "        \n",
    "    def call(self, x, training=True):\n",
    "        \n",
    "        summary = self.conv_part(x, training=training)\n",
    "        mean = self.mean_part(self.dense_part(summary))\n",
    "        var = self.var_part(self.dense_part(summary))\n",
    "        return mean, var\n",
    "\n",
    "    \n",
    "class ResidualBlock(tf.keras.Model):\n",
    "    \n",
    "    def __init__(self, n_out, kernel_size=2, strides=2):\n",
    "        super(ResidualBlock, self).__init__()\n",
    "        \n",
    "        self.conv_part = tf.keras.Sequential([\n",
    "            tf.keras.layers.Conv1D(n_out, kernel_size=kernel_size, strides=strides, use_bias=False,\n",
    "                                   kernel_initializer='glorot_uniform', padding='same'),\n",
    "            tf.keras.layers.BatchNormalization(),\n",
    "            tf.keras.layers.ELU(),\n",
    "            tf.keras.layers.Conv1D(n_out, kernel_size=kernel_size, strides=1, use_bias=False,\n",
    "                                   kernel_initializer='glorot_uniform', padding='same'),\n",
    "            tf.keras.layers.BatchNormalization()\n",
    "        ])\n",
    "        \n",
    "        self.downsample = tf.keras.Sequential([\n",
    "            tf.keras.layers.Conv1D(n_out, kernel_size=1, strides=strides, use_bias=False, \n",
    "                                   kernel_initializer='glorot_uniform'),\n",
    "            tf.keras.layers.BatchNormalization()\n",
    "        ])\n",
    "        \n",
    "        \n",
    "    def call(self, x):\n",
    "        \n",
    "        identity = x\n",
    "        out = self.conv_part(x)\n",
    "        identity = self.downsample(identity)\n",
    "        out = tf.nn.elu(out + identity)\n",
    "        return out\n",
    "    \n",
    "    \n",
    "class VAE(tf.keras.Model):\n",
    "    \n",
    "    def __init__(self, z_dim, n_params):\n",
    "        super(VAE, self).__init__()\n",
    "        self.encoder = ResidualNetwork(z_dim, logvar=True)\n",
    "        \n",
    "        \n",
    "        self.decoder = tf.keras.Sequential([\n",
    "            tf.keras.layers.Dense(128, activation='elu', kernel_initializer='glorot_uniform'),\n",
    "            tf.keras.layers.Dense(128, activation='elu', kernel_initializer='glorot_uniform'),\n",
    "            tf.keras.layers.Dense(128, activation='elu', kernel_initializer='glorot_uniform'),\n",
    "            tf.keras.layers.Dense(128, activation='elu', kernel_initializer='glorot_uniform'),\n",
    "            tf.keras.layers.Dense(128, activation='elu', kernel_initializer='glorot_uniform'),\n",
    "            tf.keras.layers.Dense(n_params, kernel_initializer='glorot_uniform')\n",
    "        ])\n",
    "    \n",
    "    \n",
    "    def call(self, x):\n",
    "        \"\"\"Encodes, samples and decoded.\"\"\"\n",
    "        \n",
    "        # Encode rt empirical dist\n",
    "        z_mean, z_logvar = self.encoder(x)\n",
    "        \n",
    "        # Sample z\n",
    "        z_sample = self.reparameterize(z_mean, z_logvar)\n",
    "    \n",
    "        # Decode rt and ndt\n",
    "        decoded = self.decoder(z_sample)\n",
    "    \n",
    "        return z_mean, z_logvar, decoded\n",
    "    \n",
    "    def reparameterize(self, z_mean, z_logvar):\n",
    "        \"\"\"Apply repatrametrization trick.\"\"\"\n",
    "        \n",
    "        eps = tf.random_normal(shape=z_mean.shape)\n",
    "        return eps * tf.exp(z_logvar * .5) + z_mean"
   ]
  },
  {
   "cell_type": "code",
   "execution_count": 6,
   "metadata": {
    "code_folding": []
   },
   "outputs": [],
   "source": [
    "def heteroscedastic_loss(y_true, y_mean, y_var):\n",
    "    \"\"\"Computes the heteroscedastic loss as in Radev et al. (2019).\"\"\"\n",
    "    \n",
    "    logvar = tf.reduce_sum(0.5 * tf.log(y_var), axis=-1)\n",
    "    squared_error = tf.reduce_sum(0.5 * tf.square(y_true - y_mean) / y_var, axis=-1)\n",
    "    loss = tf.reduce_mean(squared_error + logvar)\n",
    "    return loss\n",
    "      \n",
    "        \n",
    "def plot_true_est_scatter(model, y_pred, y_test, params_names, figsize=(20, 4), filename=None):\n",
    "    \"\"\"Plots a scatter plot with abline of the estimated posterior means vs true values.\"\"\"\n",
    "    \n",
    "    y_pred = y_pred.numpy()\n",
    "    y_test = y_test.numpy()\n",
    "    \n",
    "    # Initialize figure\n",
    "    f, axarr = plt.subplots(1, len(params_names), figsize=figsize)\n",
    "\n",
    "    # --- Plot true vs estimated posterior means on a single row --- #\n",
    "    for j in range(len(params_names)):\n",
    "        \n",
    "        # Plot true vs estimated\n",
    "        axarr[j].scatter(y_test[:, j], y_pred[:, j], color='black', alpha=0.4)\n",
    "        \n",
    "        # Plot AB line\n",
    "        axarr[j].plot(axarr[j].get_xlim(), axarr[j].get_xlim(), '--', color='black')\n",
    "        \n",
    "        # Compute NRMSD\n",
    "        rmsd = np.sqrt(np.mean( (y_pred[:, j] - y_test[:, j])**2 ))\n",
    "        nrmsd = rmsd / (y_pred[:, j].max() - y_test[:, j].min())\n",
    "        axarr[j].text(0.25, 0.9, 'NRMSD={:.3f}'.format(nrmsd),\n",
    "                     horizontalalignment='center',\n",
    "                     verticalalignment='center',\n",
    "                     transform=axarr[j].transAxes)\n",
    "        \n",
    "        # Compute RMSD\n",
    "        rmsd = np.sqrt(np.mean( (y_pred[:, j] - y_test[:, j])**2 ))\n",
    "        axarr[j].text(0.25, 0.8, 'RMSD={:.3f}'.format(rmsd),\n",
    "                     horizontalalignment='center',\n",
    "                     verticalalignment='center',\n",
    "                     transform=axarr[j].transAxes)\n",
    "        \n",
    "        # Compute R2\n",
    "        r2 = r2_score(y_pred[:, j], y_test[:, j])\n",
    "        axarr[j].text(0.2, 0.7, '$R^2$={:.3f}'.format(r2),\n",
    "                     horizontalalignment='center',\n",
    "                     verticalalignment='center',\n",
    "                     transform=axarr[j].transAxes)\n",
    "        \n",
    "        if j == 0:\n",
    "            # Label plot\n",
    "            axarr[j].set_xlabel('True')\n",
    "            axarr[j].set_ylabel('Estimated')\n",
    "        axarr[j].set_title(params_names[j])\n",
    "        axarr[j].spines['right'].set_visible(False)\n",
    "        axarr[j].spines['top'].set_visible(False)\n",
    "    \n",
    "    # Adjust spaces\n",
    "    f.tight_layout()\n",
    "    \n",
    "    # Save if specified\n",
    "    if filename is not None:\n",
    "        f.savefig(\"figures/{}_{}n_scatter.png\".format(filename, Y_test.shape[1]), dpi=600)\n",
    "      \n",
    "    \n",
    "def gaussian_kernel_matrix(x, y, sigmas):\n",
    "    \"\"\"\n",
    "    Computes a Guassian Radial Basis Kernel between the samples of x and y.\n",
    "    We create a sum of multiple gaussian kernels each having a width sigma_i.\n",
    "    Args:\n",
    "    x: a tensor of shape [num_samples, num_features]\n",
    "    y: a tensor of shape [num_samples, num_features]\n",
    "    sigmas: a tensor of floats which denote the widths of each of the\n",
    "      gaussians in the kernel.\n",
    "    Returns:\n",
    "    A tensor of shape [num_samples{x}, num_samples{y}] with the RBF kernel.\n",
    "    \"\"\"\n",
    "    \n",
    "    beta = 1. / (2. * (tf.expand_dims(sigmas, 1)))\n",
    "    norm = lambda x: tf.reduce_sum(tf.square(x), 1)\n",
    "    dist = tf.transpose(norm(tf.expand_dims(x, 2) - tf.transpose(y)))\n",
    "    s = tf.matmul(beta, tf.reshape(dist, (1, -1)))\n",
    "    return tf.reshape(tf.reduce_sum(tf.exp(-s), 0), tf.shape(dist))\n",
    "\n",
    "\n",
    "def maximum_mean_discrepancy(x, y, kernel=gaussian_kernel_matrix):\n",
    "    \"\"\"\n",
    "    Computes the Maximum Mean Discrepancy (MMD) of two samples: x and y.\n",
    "    Maximum Mean Discrepancy (MMD) is a distance-measure between the samples of\n",
    "    the distributions of x and y. Here we use the kernel two sample estimate\n",
    "    using the empirical mean of the two distributions.\n",
    "    MMD^2(P, Q) = || \\E{\\phi(x)} - \\E{\\phi(y)} ||^2\n",
    "              = \\E{ K(x, x) } + \\E{ K(y, y) } - 2 \\E{ K(x, y) },\n",
    "    where K = <\\phi(x), \\phi(y)>,\n",
    "    is the desired kernel function, in this case a radial basis kernel.\n",
    "    Args:\n",
    "      x: a tensor of shape [num_samples, num_features]\n",
    "      y: a tensor of shape [num_samples, num_features]\n",
    "      kernel: a function which computes the kernel in MMD. Defaults to the\n",
    "              GaussianKernelMatrix.\n",
    "    Returns:\n",
    "      a scalar denoting the squared maximum mean discrepancy loss.\n",
    "    \"\"\"\n",
    "\n",
    "    loss = tf.reduce_mean(kernel(x, x))\n",
    "    loss += tf.reduce_mean(kernel(y, y))\n",
    "    loss -= 2 * tf.reduce_mean(kernel(x, y))\n",
    "\n",
    "    # We do not allow the loss to become negative.\n",
    "    loss = tf.where(loss > 0, loss, 0)\n",
    "    return loss\n",
    "\n",
    "\n",
    "def maximum_mean_discrepancy_loss(source_samples, target_samples, weight=1.):\n",
    "    \"\"\"\n",
    "    This Maximum Mean Discrepancy (MMD) loss is calculated with a number of\n",
    "    different Gaussian kernels.\n",
    "    Args:\n",
    "    source_samples: a tensor of shape [num_samples, num_features].\n",
    "    target_samples: a tensor of shape [num_samples, num_features].\n",
    "    weight: the weight of the MMD loss.\n",
    "    Returns:\n",
    "    a scalar tensor representing the MMD loss value.\n",
    "    \"\"\"\n",
    "    \n",
    "    sigmas = [\n",
    "      1e-6, 1e-5, 1e-4, 1e-3, 1e-2, 1e-1, 1, 5, 10, 15, 20, 25, 30, 35, 100,\n",
    "      1e3, 1e4, 1e5, 1e6\n",
    "    ]\n",
    "    gaussian_kernel = partial(gaussian_kernel_matrix, sigmas=sigmas)\n",
    "    loss_value = maximum_mean_discrepancy(source_samples, target_samples, kernel=gaussian_kernel)\n",
    "    loss_value = tf.maximum(1e-4, loss_value) * weight\n",
    "    return loss_value\n",
    "\n",
    "\n",
    "def kl_loss(z_mean, z_logvar):\n",
    "    loss = 1 + z_logvar - tf.square(z_mean) - tf.exp(z_logvar)\n",
    "    loss = -0.5 * tf.reduce_sum(loss, axis=-1)\n",
    "    return tf.reduce_mean(loss)"
   ]
  },
  {
   "cell_type": "code",
   "execution_count": 63,
   "metadata": {
    "code_folding": [
     62
    ]
   },
   "outputs": [],
   "source": [
    "class RNADataLoader:\n",
    "    \n",
    "    def __init__(self, batch_size=32, data_path='.', n_cells=100, n_genes=100, n_sim_chunk=5000):\n",
    "        \n",
    "        self.data_path = data_path\n",
    "        self._batch_size = batch_size\n",
    "        self._n_cells = n_cells\n",
    "        self._n_genes = n_genes\n",
    "        self._n_sim = n_sim_chunk\n",
    "        self._idx = 0\n",
    "        self._num_chunks = self._get_num_chunks()\n",
    "        self._data_files_list = self._get_data_files()\n",
    "        self._param_files_list = self._get_param_files()\n",
    "        assert len(self._data_files_list) == len(self._param_files_list), '# Data files in {} must equal # params files'.format(self.path)\n",
    "    \n",
    "    def _get_num_chunks(self):\n",
    "        \n",
    "        return len(os.listdir(os.path.join(self.data_path, 'data'))) \n",
    "    \n",
    "    def _get_data_files(self):\n",
    "        \n",
    "        return [os.path.join(self.data_path, 'data', f) \n",
    "                for f in os.listdir(os.path.join(self.data_path, 'data'))]\n",
    "    \n",
    "    def _get_param_files(self):\n",
    "        \n",
    "        return [os.path.join(self.data_path, 'params', f) \n",
    "                for f in os.listdir(os.path.join(self.data_path, 'params'))]\n",
    "    \n",
    "    def _get_global_max(self):\n",
    "        \n",
    "    \n",
    "    def load_test(self, n_test, path='.'):\n",
    "        \"\"\"Loads a test dataset.\"\"\"\n",
    "        \n",
    "        X = np.load(os.path.join(path, 'rna_data_test.npy')).astype(np.float32)\n",
    "        y = np.load(os.path.join(path, 'rna_params_test.npy')).astype(np.float32)\n",
    "        X = X.reshape(self._n_genes, self._n_cells, n_test).T\n",
    "        X, y = tf.convert_to_tensor(X), tf.convert_to_tensor(y)\n",
    "        return X, y\n",
    "    \n",
    "    def _load_next(self):\n",
    "        \"\"\"Loads the current data files.\"\"\"\n",
    "        \n",
    "        # Make sure a corresponding pair of data-params is loaded\n",
    "        data_file = self._data_files_list[self._idx]\n",
    "        params_file = self._param_files_list[self._idx]\n",
    "        assert data_file.split('_')[-1] == params_file.split('_')[-1]\n",
    "        \n",
    "        # Load as numpy\n",
    "        X = np.load(data_file).astype(np.float32)\n",
    "        y = np.load(params_file).astype(np.float32)\n",
    "        \n",
    "        # Convert to N_sim x Genes x Cells tensor\n",
    "        X = X.reshape(self._n_genes, self._n_cells, self._n_sim).T\n",
    "        \n",
    "        # Create a tf dataset\n",
    "        dataset = tf.data.Dataset.from_tensor_slices((X, y)).shuffle(X.shape[0]).batch(self._batch_size)\n",
    "\n",
    "        # Increment index and return dataset\n",
    "        self._idx = self._idx + 1\n",
    "        return dataset\n",
    "    \n",
    "    def __iter__(self): \n",
    "        return self\n",
    "    \n",
    "    def __next__(self):\n",
    "        # Increment index and check if we are at the end of the file list \n",
    "        if self._idx == self._num_chunks:\n",
    "            self._idx = 0\n",
    "            raise StopIteration\n",
    "            \n",
    "        return self._load_next()"
   ]
  },
  {
   "cell_type": "code",
   "execution_count": 144,
   "metadata": {},
   "outputs": [],
   "source": [
    "learning_rate = 0.0001\n",
    "batch_size = 32\n",
    "epochs = 30\n",
    "n_sim = 5000\n",
    "n_chunks = 25\n",
    "param_names = ['alpha', 'beta', 'out_loc', 'out_scale', 'lib_loc', 'lib_scale', 'out_prob']\n",
    "n_params = len(param_names)\n",
    "#data_loader = RNADataLoader(batch_size)"
   ]
  },
  {
   "cell_type": "code",
   "execution_count": 139,
   "metadata": {},
   "outputs": [],
   "source": [
    "X_test, y_test = data_loader.load_test(n_test=500)"
   ]
  },
  {
   "cell_type": "code",
   "execution_count": 140,
   "metadata": {},
   "outputs": [],
   "source": [
    "model = ResidualNetwork(n_params)"
   ]
  },
  {
   "cell_type": "code",
   "execution_count": 145,
   "metadata": {},
   "outputs": [],
   "source": [
    "optimizer = tf.train.AdamOptimizer(learning_rate=learning_rate)"
   ]
  },
  {
   "cell_type": "code",
   "execution_count": 142,
   "metadata": {},
   "outputs": [],
   "source": [
    "def run_epoch(model, optimizer, data_loader, X_test, y_test, p_bar, global_step=None, clip_value=5.):\n",
    "    \"\"\"Runs a single epoch.\"\"\"\n",
    "    \n",
    "    for chunk in data_loader:\n",
    "        for X_batch, y_batch in chunk:\n",
    "        \n",
    "            with tf.GradientTape() as tape:\n",
    "\n",
    "                # Forward pass\n",
    "                y_mean, y_var = model(X_batch)\n",
    "\n",
    "                # Compute total loss\n",
    "                loss = heteroscedastic_loss(y_batch, y_mean, y_var)\n",
    "             \n",
    "            # One step backprop\n",
    "            gradients = tape.gradient(loss, model.trainable_variables)\n",
    "            \n",
    "            # Validations score\n",
    "            y_mean_val, y_var_val = model(X_test, training=False)\n",
    "            train_rec = tf.sqrt(tf.reduce_mean(tf.reduce_sum(tf.square(y_batch - y_mean), axis=-1), axis=-1))  \n",
    "            val_rec = tf.sqrt(tf.reduce_mean(tf.reduce_sum(tf.square(y_test - y_mean_val), axis=-1), axis=-1))\n",
    "            val_loss = heteroscedastic_loss(y_test, y_mean_val, y_var_val)\n",
    "            \n",
    "            \n",
    "            if clip_value is not None:\n",
    "                gradients, _ = tf.clip_by_global_norm(gradients, clip_value)\n",
    "            optimizer.apply_gradients(zip(gradients, model.trainable_variables), global_step=global_step)\n",
    "\n",
    "            # Update p-bar\n",
    "            p_bar.set_postfix_str(\"Loss:{0:.3f},Val.Loss:{1:.3f},Rec.:{2:.3f},Val.Rec.:{3:.3f}\".format(\n",
    "            loss.numpy(), val_loss.numpy(), train_rec.numpy() , val_rec.numpy()))\n",
    "            p_bar.update(1)"
   ]
  },
  {
   "cell_type": "code",
   "execution_count": 146,
   "metadata": {},
   "outputs": [
    {
     "data": {
      "application/vnd.jupyter.widget-view+json": {
       "model_id": "4defad19555149fda3f1c61fd2a76f0e",
       "version_major": 2,
       "version_minor": 0
      },
      "text/plain": [
       "HBox(children=(IntProgress(value=0, description='Epoch 1', max=3906, style=ProgressStyle(description_width='in…"
      ]
     },
     "metadata": {},
     "output_type": "display_data"
    },
    {
     "name": "stdout",
     "output_type": "stream",
     "text": [
      "\n"
     ]
    },
    {
     "ename": "KeyboardInterrupt",
     "evalue": "",
     "output_type": "error",
     "traceback": [
      "\u001b[1;31m---------------------------------------------------------------------------\u001b[0m",
      "\u001b[1;31mKeyboardInterrupt\u001b[0m                         Traceback (most recent call last)",
      "\u001b[1;32m<ipython-input-146-a71e7bd01f4d>\u001b[0m in \u001b[0;36m<module>\u001b[1;34m\u001b[0m\n\u001b[0;32m      1\u001b[0m \u001b[1;32mfor\u001b[0m \u001b[0mep\u001b[0m \u001b[1;32min\u001b[0m \u001b[0mrange\u001b[0m\u001b[1;33m(\u001b[0m\u001b[1;36m1\u001b[0m\u001b[1;33m,\u001b[0m \u001b[0mepochs\u001b[0m\u001b[1;33m+\u001b[0m\u001b[1;36m1\u001b[0m\u001b[1;33m)\u001b[0m\u001b[1;33m:\u001b[0m\u001b[1;33m\u001b[0m\u001b[1;33m\u001b[0m\u001b[0m\n\u001b[0;32m      2\u001b[0m     \u001b[1;32mwith\u001b[0m \u001b[0mtqdm\u001b[0m\u001b[1;33m(\u001b[0m\u001b[0mtotal\u001b[0m \u001b[1;33m=\u001b[0m \u001b[1;33m(\u001b[0m\u001b[0mn_sim\u001b[0m \u001b[1;33m*\u001b[0m \u001b[0mn_chunks\u001b[0m\u001b[1;33m)\u001b[0m \u001b[1;33m//\u001b[0m \u001b[0mbatch_size\u001b[0m\u001b[1;33m,\u001b[0m \u001b[0mdesc\u001b[0m\u001b[1;33m=\u001b[0m\u001b[1;34m'Epoch {}'\u001b[0m\u001b[1;33m.\u001b[0m\u001b[0mformat\u001b[0m\u001b[1;33m(\u001b[0m\u001b[0mep\u001b[0m\u001b[1;33m)\u001b[0m\u001b[1;33m)\u001b[0m \u001b[1;32mas\u001b[0m \u001b[0mp_bar\u001b[0m\u001b[1;33m:\u001b[0m\u001b[1;33m\u001b[0m\u001b[1;33m\u001b[0m\u001b[0m\n\u001b[1;32m----> 3\u001b[1;33m         \u001b[0mrun_epoch\u001b[0m\u001b[1;33m(\u001b[0m\u001b[0mmodel\u001b[0m\u001b[1;33m,\u001b[0m \u001b[0moptimizer\u001b[0m\u001b[1;33m,\u001b[0m \u001b[0mdata_loader\u001b[0m\u001b[1;33m,\u001b[0m \u001b[0mX_test\u001b[0m\u001b[1;33m,\u001b[0m \u001b[0my_test\u001b[0m\u001b[1;33m,\u001b[0m \u001b[0mp_bar\u001b[0m\u001b[1;33m)\u001b[0m\u001b[1;33m\u001b[0m\u001b[1;33m\u001b[0m\u001b[0m\n\u001b[0m",
      "\u001b[1;32m<ipython-input-142-92be29ad7b44>\u001b[0m in \u001b[0;36mrun_epoch\u001b[1;34m(model, optimizer, data_loader, X_test, y_test, p_bar, global_step, clip_value)\u001b[0m\n\u001b[0;32m     17\u001b[0m \u001b[1;33m\u001b[0m\u001b[0m\n\u001b[0;32m     18\u001b[0m             \u001b[1;31m# Validations score\u001b[0m\u001b[1;33m\u001b[0m\u001b[1;33m\u001b[0m\u001b[1;33m\u001b[0m\u001b[0m\n\u001b[1;32m---> 19\u001b[1;33m             \u001b[0my_mean_val\u001b[0m\u001b[1;33m,\u001b[0m \u001b[0my_var_val\u001b[0m \u001b[1;33m=\u001b[0m \u001b[0mmodel\u001b[0m\u001b[1;33m(\u001b[0m\u001b[0mX_test\u001b[0m\u001b[1;33m,\u001b[0m \u001b[0mtraining\u001b[0m\u001b[1;33m=\u001b[0m\u001b[1;32mFalse\u001b[0m\u001b[1;33m)\u001b[0m\u001b[1;33m\u001b[0m\u001b[1;33m\u001b[0m\u001b[0m\n\u001b[0m\u001b[0;32m     20\u001b[0m             \u001b[0mtrain_rec\u001b[0m \u001b[1;33m=\u001b[0m \u001b[0mtf\u001b[0m\u001b[1;33m.\u001b[0m\u001b[0msqrt\u001b[0m\u001b[1;33m(\u001b[0m\u001b[0mtf\u001b[0m\u001b[1;33m.\u001b[0m\u001b[0mreduce_mean\u001b[0m\u001b[1;33m(\u001b[0m\u001b[0mtf\u001b[0m\u001b[1;33m.\u001b[0m\u001b[0mreduce_sum\u001b[0m\u001b[1;33m(\u001b[0m\u001b[0mtf\u001b[0m\u001b[1;33m.\u001b[0m\u001b[0msquare\u001b[0m\u001b[1;33m(\u001b[0m\u001b[0my_batch\u001b[0m \u001b[1;33m-\u001b[0m \u001b[0my_mean\u001b[0m\u001b[1;33m)\u001b[0m\u001b[1;33m,\u001b[0m \u001b[0maxis\u001b[0m\u001b[1;33m=\u001b[0m\u001b[1;33m-\u001b[0m\u001b[1;36m1\u001b[0m\u001b[1;33m)\u001b[0m\u001b[1;33m,\u001b[0m \u001b[0maxis\u001b[0m\u001b[1;33m=\u001b[0m\u001b[1;33m-\u001b[0m\u001b[1;36m1\u001b[0m\u001b[1;33m)\u001b[0m\u001b[1;33m)\u001b[0m\u001b[1;33m\u001b[0m\u001b[1;33m\u001b[0m\u001b[0m\n\u001b[0;32m     21\u001b[0m             \u001b[0mval_rec\u001b[0m \u001b[1;33m=\u001b[0m \u001b[0mtf\u001b[0m\u001b[1;33m.\u001b[0m\u001b[0msqrt\u001b[0m\u001b[1;33m(\u001b[0m\u001b[0mtf\u001b[0m\u001b[1;33m.\u001b[0m\u001b[0mreduce_mean\u001b[0m\u001b[1;33m(\u001b[0m\u001b[0mtf\u001b[0m\u001b[1;33m.\u001b[0m\u001b[0mreduce_sum\u001b[0m\u001b[1;33m(\u001b[0m\u001b[0mtf\u001b[0m\u001b[1;33m.\u001b[0m\u001b[0msquare\u001b[0m\u001b[1;33m(\u001b[0m\u001b[0my_test\u001b[0m \u001b[1;33m-\u001b[0m \u001b[0my_mean_val\u001b[0m\u001b[1;33m)\u001b[0m\u001b[1;33m,\u001b[0m \u001b[0maxis\u001b[0m\u001b[1;33m=\u001b[0m\u001b[1;33m-\u001b[0m\u001b[1;36m1\u001b[0m\u001b[1;33m)\u001b[0m\u001b[1;33m,\u001b[0m \u001b[0maxis\u001b[0m\u001b[1;33m=\u001b[0m\u001b[1;33m-\u001b[0m\u001b[1;36m1\u001b[0m\u001b[1;33m)\u001b[0m\u001b[1;33m)\u001b[0m\u001b[1;33m\u001b[0m\u001b[1;33m\u001b[0m\u001b[0m\n",
      "\u001b[1;32mD:\\Anaconda3\\envs\\TensorFlowGpu\\lib\\site-packages\\tensorflow\\python\\keras\\engine\\base_layer.py\u001b[0m in \u001b[0;36m__call__\u001b[1;34m(self, inputs, *args, **kwargs)\u001b[0m\n\u001b[0;32m    590\u001b[0m       \u001b[1;32melse\u001b[0m\u001b[1;33m:\u001b[0m\u001b[1;33m\u001b[0m\u001b[1;33m\u001b[0m\u001b[0m\n\u001b[0;32m    591\u001b[0m         \u001b[1;31m# Eager execution on data tensors.\u001b[0m\u001b[1;33m\u001b[0m\u001b[1;33m\u001b[0m\u001b[1;33m\u001b[0m\u001b[0m\n\u001b[1;32m--> 592\u001b[1;33m         \u001b[0moutputs\u001b[0m \u001b[1;33m=\u001b[0m \u001b[0mself\u001b[0m\u001b[1;33m.\u001b[0m\u001b[0mcall\u001b[0m\u001b[1;33m(\u001b[0m\u001b[0minputs\u001b[0m\u001b[1;33m,\u001b[0m \u001b[1;33m*\u001b[0m\u001b[0margs\u001b[0m\u001b[1;33m,\u001b[0m \u001b[1;33m**\u001b[0m\u001b[0mkwargs\u001b[0m\u001b[1;33m)\u001b[0m\u001b[1;33m\u001b[0m\u001b[1;33m\u001b[0m\u001b[0m\n\u001b[0m\u001b[0;32m    593\u001b[0m         \u001b[0mself\u001b[0m\u001b[1;33m.\u001b[0m\u001b[0m_handle_activity_regularization\u001b[0m\u001b[1;33m(\u001b[0m\u001b[0minputs\u001b[0m\u001b[1;33m,\u001b[0m \u001b[0moutputs\u001b[0m\u001b[1;33m)\u001b[0m\u001b[1;33m\u001b[0m\u001b[1;33m\u001b[0m\u001b[0m\n\u001b[0;32m    594\u001b[0m         \u001b[1;32mreturn\u001b[0m \u001b[0moutputs\u001b[0m\u001b[1;33m\u001b[0m\u001b[1;33m\u001b[0m\u001b[0m\n",
      "\u001b[1;32m<ipython-input-18-20703e0d3544>\u001b[0m in \u001b[0;36mcall\u001b[1;34m(self, x, training)\u001b[0m\n\u001b[0;32m     40\u001b[0m \u001b[1;33m\u001b[0m\u001b[0m\n\u001b[0;32m     41\u001b[0m         \u001b[0mx\u001b[0m \u001b[1;33m=\u001b[0m \u001b[0mself\u001b[0m\u001b[1;33m.\u001b[0m\u001b[0mconv_part\u001b[0m\u001b[1;33m(\u001b[0m\u001b[0mx\u001b[0m\u001b[1;33m,\u001b[0m \u001b[0mtraining\u001b[0m\u001b[1;33m=\u001b[0m\u001b[0mtraining\u001b[0m\u001b[1;33m)\u001b[0m\u001b[1;33m\u001b[0m\u001b[1;33m\u001b[0m\u001b[0m\n\u001b[1;32m---> 42\u001b[1;33m         \u001b[0mx\u001b[0m \u001b[1;33m=\u001b[0m \u001b[0mself\u001b[0m\u001b[1;33m.\u001b[0m\u001b[0mresidual_part\u001b[0m\u001b[1;33m(\u001b[0m\u001b[0mx\u001b[0m\u001b[1;33m,\u001b[0m \u001b[0mtraining\u001b[0m\u001b[1;33m=\u001b[0m\u001b[0mtraining\u001b[0m\u001b[1;33m)\u001b[0m\u001b[1;33m\u001b[0m\u001b[1;33m\u001b[0m\u001b[0m\n\u001b[0m\u001b[0;32m     43\u001b[0m         \u001b[0msummary\u001b[0m \u001b[1;33m=\u001b[0m \u001b[0mself\u001b[0m\u001b[1;33m.\u001b[0m\u001b[0mavg_pool\u001b[0m\u001b[1;33m(\u001b[0m\u001b[0mx\u001b[0m\u001b[1;33m)\u001b[0m\u001b[1;33m\u001b[0m\u001b[1;33m\u001b[0m\u001b[0m\n\u001b[0;32m     44\u001b[0m         \u001b[0mmean\u001b[0m \u001b[1;33m=\u001b[0m \u001b[0mself\u001b[0m\u001b[1;33m.\u001b[0m\u001b[0mmean_part\u001b[0m\u001b[1;33m(\u001b[0m\u001b[0mself\u001b[0m\u001b[1;33m.\u001b[0m\u001b[0mdense_part\u001b[0m\u001b[1;33m(\u001b[0m\u001b[0msummary\u001b[0m\u001b[1;33m)\u001b[0m\u001b[1;33m)\u001b[0m\u001b[1;33m\u001b[0m\u001b[1;33m\u001b[0m\u001b[0m\n",
      "\u001b[1;32mD:\\Anaconda3\\envs\\TensorFlowGpu\\lib\\site-packages\\tensorflow\\python\\keras\\engine\\base_layer.py\u001b[0m in \u001b[0;36m__call__\u001b[1;34m(self, inputs, *args, **kwargs)\u001b[0m\n\u001b[0;32m    590\u001b[0m       \u001b[1;32melse\u001b[0m\u001b[1;33m:\u001b[0m\u001b[1;33m\u001b[0m\u001b[1;33m\u001b[0m\u001b[0m\n\u001b[0;32m    591\u001b[0m         \u001b[1;31m# Eager execution on data tensors.\u001b[0m\u001b[1;33m\u001b[0m\u001b[1;33m\u001b[0m\u001b[1;33m\u001b[0m\u001b[0m\n\u001b[1;32m--> 592\u001b[1;33m         \u001b[0moutputs\u001b[0m \u001b[1;33m=\u001b[0m \u001b[0mself\u001b[0m\u001b[1;33m.\u001b[0m\u001b[0mcall\u001b[0m\u001b[1;33m(\u001b[0m\u001b[0minputs\u001b[0m\u001b[1;33m,\u001b[0m \u001b[1;33m*\u001b[0m\u001b[0margs\u001b[0m\u001b[1;33m,\u001b[0m \u001b[1;33m**\u001b[0m\u001b[0mkwargs\u001b[0m\u001b[1;33m)\u001b[0m\u001b[1;33m\u001b[0m\u001b[1;33m\u001b[0m\u001b[0m\n\u001b[0m\u001b[0;32m    593\u001b[0m         \u001b[0mself\u001b[0m\u001b[1;33m.\u001b[0m\u001b[0m_handle_activity_regularization\u001b[0m\u001b[1;33m(\u001b[0m\u001b[0minputs\u001b[0m\u001b[1;33m,\u001b[0m \u001b[0moutputs\u001b[0m\u001b[1;33m)\u001b[0m\u001b[1;33m\u001b[0m\u001b[1;33m\u001b[0m\u001b[0m\n\u001b[0;32m    594\u001b[0m         \u001b[1;32mreturn\u001b[0m \u001b[0moutputs\u001b[0m\u001b[1;33m\u001b[0m\u001b[1;33m\u001b[0m\u001b[0m\n",
      "\u001b[1;32mD:\\Anaconda3\\envs\\TensorFlowGpu\\lib\\site-packages\\tensorflow\\python\\keras\\engine\\sequential.py\u001b[0m in \u001b[0;36mcall\u001b[1;34m(self, inputs, training, mask)\u001b[0m\n\u001b[0;32m    231\u001b[0m \u001b[1;33m\u001b[0m\u001b[0m\n\u001b[0;32m    232\u001b[0m     outputs, _ = self._call_and_compute_mask(\n\u001b[1;32m--> 233\u001b[1;33m         inputs, training=training, mask=mask)\n\u001b[0m\u001b[0;32m    234\u001b[0m     \u001b[1;32mreturn\u001b[0m \u001b[0moutputs\u001b[0m\u001b[1;33m\u001b[0m\u001b[1;33m\u001b[0m\u001b[0m\n\u001b[0;32m    235\u001b[0m \u001b[1;33m\u001b[0m\u001b[0m\n",
      "\u001b[1;32mD:\\Anaconda3\\envs\\TensorFlowGpu\\lib\\site-packages\\tensorflow\\python\\keras\\engine\\sequential.py\u001b[0m in \u001b[0;36m_call_and_compute_mask\u001b[1;34m(self, inputs, training, mask)\u001b[0m\n\u001b[0;32m    254\u001b[0m             \u001b[0mlayer\u001b[0m\u001b[1;33m.\u001b[0m\u001b[0m_maybe_build\u001b[0m\u001b[1;33m(\u001b[0m\u001b[0mx\u001b[0m\u001b[1;33m)\u001b[0m\u001b[1;33m\u001b[0m\u001b[1;33m\u001b[0m\u001b[0m\n\u001b[0;32m    255\u001b[0m           \u001b[0mlayer\u001b[0m\u001b[1;33m.\u001b[0m\u001b[0mbuilt\u001b[0m \u001b[1;33m=\u001b[0m \u001b[1;32mTrue\u001b[0m\u001b[1;33m\u001b[0m\u001b[1;33m\u001b[0m\u001b[0m\n\u001b[1;32m--> 256\u001b[1;33m         \u001b[0mx\u001b[0m \u001b[1;33m=\u001b[0m \u001b[0mlayer\u001b[0m\u001b[1;33m.\u001b[0m\u001b[0mcall\u001b[0m\u001b[1;33m(\u001b[0m\u001b[0mx\u001b[0m\u001b[1;33m,\u001b[0m \u001b[1;33m**\u001b[0m\u001b[0mkwargs\u001b[0m\u001b[1;33m)\u001b[0m\u001b[1;33m\u001b[0m\u001b[1;33m\u001b[0m\u001b[0m\n\u001b[0m\u001b[0;32m    257\u001b[0m         \u001b[1;32mif\u001b[0m \u001b[0mlayer\u001b[0m\u001b[1;33m.\u001b[0m\u001b[0msupports_masking\u001b[0m\u001b[1;33m:\u001b[0m\u001b[1;33m\u001b[0m\u001b[1;33m\u001b[0m\u001b[0m\n\u001b[0;32m    258\u001b[0m           \u001b[0mmask\u001b[0m \u001b[1;33m=\u001b[0m \u001b[0mlayer\u001b[0m\u001b[1;33m.\u001b[0m\u001b[0mcompute_mask\u001b[0m\u001b[1;33m(\u001b[0m\u001b[0mx\u001b[0m\u001b[1;33m,\u001b[0m \u001b[0mmask\u001b[0m\u001b[1;33m)\u001b[0m\u001b[1;33m\u001b[0m\u001b[1;33m\u001b[0m\u001b[0m\n",
      "\u001b[1;32m<ipython-input-18-20703e0d3544>\u001b[0m in \u001b[0;36mcall\u001b[1;34m(self, x)\u001b[0m\n\u001b[0;32m    116\u001b[0m \u001b[1;33m\u001b[0m\u001b[0m\n\u001b[0;32m    117\u001b[0m         \u001b[0midentity\u001b[0m \u001b[1;33m=\u001b[0m \u001b[0mx\u001b[0m\u001b[1;33m\u001b[0m\u001b[1;33m\u001b[0m\u001b[0m\n\u001b[1;32m--> 118\u001b[1;33m         \u001b[0mout\u001b[0m \u001b[1;33m=\u001b[0m \u001b[0mself\u001b[0m\u001b[1;33m.\u001b[0m\u001b[0mconv_part\u001b[0m\u001b[1;33m(\u001b[0m\u001b[0mx\u001b[0m\u001b[1;33m)\u001b[0m\u001b[1;33m\u001b[0m\u001b[1;33m\u001b[0m\u001b[0m\n\u001b[0m\u001b[0;32m    119\u001b[0m         \u001b[0midentity\u001b[0m \u001b[1;33m=\u001b[0m \u001b[0mself\u001b[0m\u001b[1;33m.\u001b[0m\u001b[0mdownsample\u001b[0m\u001b[1;33m(\u001b[0m\u001b[0midentity\u001b[0m\u001b[1;33m)\u001b[0m\u001b[1;33m\u001b[0m\u001b[1;33m\u001b[0m\u001b[0m\n\u001b[0;32m    120\u001b[0m         \u001b[0mout\u001b[0m \u001b[1;33m=\u001b[0m \u001b[0mtf\u001b[0m\u001b[1;33m.\u001b[0m\u001b[0mnn\u001b[0m\u001b[1;33m.\u001b[0m\u001b[0melu\u001b[0m\u001b[1;33m(\u001b[0m\u001b[0mout\u001b[0m \u001b[1;33m+\u001b[0m \u001b[0midentity\u001b[0m\u001b[1;33m)\u001b[0m\u001b[1;33m\u001b[0m\u001b[1;33m\u001b[0m\u001b[0m\n",
      "\u001b[1;32mD:\\Anaconda3\\envs\\TensorFlowGpu\\lib\\site-packages\\tensorflow\\python\\keras\\engine\\base_layer.py\u001b[0m in \u001b[0;36m__call__\u001b[1;34m(self, inputs, *args, **kwargs)\u001b[0m\n\u001b[0;32m    590\u001b[0m       \u001b[1;32melse\u001b[0m\u001b[1;33m:\u001b[0m\u001b[1;33m\u001b[0m\u001b[1;33m\u001b[0m\u001b[0m\n\u001b[0;32m    591\u001b[0m         \u001b[1;31m# Eager execution on data tensors.\u001b[0m\u001b[1;33m\u001b[0m\u001b[1;33m\u001b[0m\u001b[1;33m\u001b[0m\u001b[0m\n\u001b[1;32m--> 592\u001b[1;33m         \u001b[0moutputs\u001b[0m \u001b[1;33m=\u001b[0m \u001b[0mself\u001b[0m\u001b[1;33m.\u001b[0m\u001b[0mcall\u001b[0m\u001b[1;33m(\u001b[0m\u001b[0minputs\u001b[0m\u001b[1;33m,\u001b[0m \u001b[1;33m*\u001b[0m\u001b[0margs\u001b[0m\u001b[1;33m,\u001b[0m \u001b[1;33m**\u001b[0m\u001b[0mkwargs\u001b[0m\u001b[1;33m)\u001b[0m\u001b[1;33m\u001b[0m\u001b[1;33m\u001b[0m\u001b[0m\n\u001b[0m\u001b[0;32m    593\u001b[0m         \u001b[0mself\u001b[0m\u001b[1;33m.\u001b[0m\u001b[0m_handle_activity_regularization\u001b[0m\u001b[1;33m(\u001b[0m\u001b[0minputs\u001b[0m\u001b[1;33m,\u001b[0m \u001b[0moutputs\u001b[0m\u001b[1;33m)\u001b[0m\u001b[1;33m\u001b[0m\u001b[1;33m\u001b[0m\u001b[0m\n\u001b[0;32m    594\u001b[0m         \u001b[1;32mreturn\u001b[0m \u001b[0moutputs\u001b[0m\u001b[1;33m\u001b[0m\u001b[1;33m\u001b[0m\u001b[0m\n",
      "\u001b[1;32mD:\\Anaconda3\\envs\\TensorFlowGpu\\lib\\site-packages\\tensorflow\\python\\keras\\engine\\sequential.py\u001b[0m in \u001b[0;36mcall\u001b[1;34m(self, inputs, training, mask)\u001b[0m\n\u001b[0;32m    231\u001b[0m \u001b[1;33m\u001b[0m\u001b[0m\n\u001b[0;32m    232\u001b[0m     outputs, _ = self._call_and_compute_mask(\n\u001b[1;32m--> 233\u001b[1;33m         inputs, training=training, mask=mask)\n\u001b[0m\u001b[0;32m    234\u001b[0m     \u001b[1;32mreturn\u001b[0m \u001b[0moutputs\u001b[0m\u001b[1;33m\u001b[0m\u001b[1;33m\u001b[0m\u001b[0m\n\u001b[0;32m    235\u001b[0m \u001b[1;33m\u001b[0m\u001b[0m\n",
      "\u001b[1;32mD:\\Anaconda3\\envs\\TensorFlowGpu\\lib\\site-packages\\tensorflow\\python\\keras\\engine\\sequential.py\u001b[0m in \u001b[0;36m_call_and_compute_mask\u001b[1;34m(self, inputs, training, mask)\u001b[0m\n\u001b[0;32m    254\u001b[0m             \u001b[0mlayer\u001b[0m\u001b[1;33m.\u001b[0m\u001b[0m_maybe_build\u001b[0m\u001b[1;33m(\u001b[0m\u001b[0mx\u001b[0m\u001b[1;33m)\u001b[0m\u001b[1;33m\u001b[0m\u001b[1;33m\u001b[0m\u001b[0m\n\u001b[0;32m    255\u001b[0m           \u001b[0mlayer\u001b[0m\u001b[1;33m.\u001b[0m\u001b[0mbuilt\u001b[0m \u001b[1;33m=\u001b[0m \u001b[1;32mTrue\u001b[0m\u001b[1;33m\u001b[0m\u001b[1;33m\u001b[0m\u001b[0m\n\u001b[1;32m--> 256\u001b[1;33m         \u001b[0mx\u001b[0m \u001b[1;33m=\u001b[0m \u001b[0mlayer\u001b[0m\u001b[1;33m.\u001b[0m\u001b[0mcall\u001b[0m\u001b[1;33m(\u001b[0m\u001b[0mx\u001b[0m\u001b[1;33m,\u001b[0m \u001b[1;33m**\u001b[0m\u001b[0mkwargs\u001b[0m\u001b[1;33m)\u001b[0m\u001b[1;33m\u001b[0m\u001b[1;33m\u001b[0m\u001b[0m\n\u001b[0m\u001b[0;32m    257\u001b[0m         \u001b[1;32mif\u001b[0m \u001b[0mlayer\u001b[0m\u001b[1;33m.\u001b[0m\u001b[0msupports_masking\u001b[0m\u001b[1;33m:\u001b[0m\u001b[1;33m\u001b[0m\u001b[1;33m\u001b[0m\u001b[0m\n\u001b[0;32m    258\u001b[0m           \u001b[0mmask\u001b[0m \u001b[1;33m=\u001b[0m \u001b[0mlayer\u001b[0m\u001b[1;33m.\u001b[0m\u001b[0mcompute_mask\u001b[0m\u001b[1;33m(\u001b[0m\u001b[0mx\u001b[0m\u001b[1;33m,\u001b[0m \u001b[0mmask\u001b[0m\u001b[1;33m)\u001b[0m\u001b[1;33m\u001b[0m\u001b[1;33m\u001b[0m\u001b[0m\n",
      "\u001b[1;32mD:\\Anaconda3\\envs\\TensorFlowGpu\\lib\\site-packages\\tensorflow\\python\\keras\\layers\\normalization.py\u001b[0m in \u001b[0;36mcall\u001b[1;34m(self, inputs, training)\u001b[0m\n\u001b[0;32m    686\u001b[0m                                      \u001b[0moffset\u001b[0m\u001b[1;33m,\u001b[0m\u001b[1;33m\u001b[0m\u001b[1;33m\u001b[0m\u001b[0m\n\u001b[0;32m    687\u001b[0m                                      \u001b[0mscale\u001b[0m\u001b[1;33m,\u001b[0m\u001b[1;33m\u001b[0m\u001b[1;33m\u001b[0m\u001b[0m\n\u001b[1;32m--> 688\u001b[1;33m                                      self.epsilon)\n\u001b[0m\u001b[0;32m    689\u001b[0m     \u001b[1;31m# If some components of the shape got lost due to adjustments, fix that.\u001b[0m\u001b[1;33m\u001b[0m\u001b[1;33m\u001b[0m\u001b[1;33m\u001b[0m\u001b[0m\n\u001b[0;32m    690\u001b[0m     \u001b[0moutputs\u001b[0m\u001b[1;33m.\u001b[0m\u001b[0mset_shape\u001b[0m\u001b[1;33m(\u001b[0m\u001b[0minput_shape\u001b[0m\u001b[1;33m)\u001b[0m\u001b[1;33m\u001b[0m\u001b[1;33m\u001b[0m\u001b[0m\n",
      "\u001b[1;32mD:\\Anaconda3\\envs\\TensorFlowGpu\\lib\\site-packages\\tensorflow\\python\\ops\\nn_impl.py\u001b[0m in \u001b[0;36mbatch_normalization\u001b[1;34m(x, mean, variance, offset, scale, variance_epsilon, name)\u001b[0m\n\u001b[0;32m   1104\u001b[0m   \"\"\"\n\u001b[0;32m   1105\u001b[0m   \u001b[1;32mwith\u001b[0m \u001b[0mops\u001b[0m\u001b[1;33m.\u001b[0m\u001b[0mname_scope\u001b[0m\u001b[1;33m(\u001b[0m\u001b[0mname\u001b[0m\u001b[1;33m,\u001b[0m \u001b[1;34m\"batchnorm\"\u001b[0m\u001b[1;33m,\u001b[0m \u001b[1;33m[\u001b[0m\u001b[0mx\u001b[0m\u001b[1;33m,\u001b[0m \u001b[0mmean\u001b[0m\u001b[1;33m,\u001b[0m \u001b[0mvariance\u001b[0m\u001b[1;33m,\u001b[0m \u001b[0mscale\u001b[0m\u001b[1;33m,\u001b[0m \u001b[0moffset\u001b[0m\u001b[1;33m]\u001b[0m\u001b[1;33m)\u001b[0m\u001b[1;33m:\u001b[0m\u001b[1;33m\u001b[0m\u001b[1;33m\u001b[0m\u001b[0m\n\u001b[1;32m-> 1106\u001b[1;33m     \u001b[0minv\u001b[0m \u001b[1;33m=\u001b[0m \u001b[0mmath_ops\u001b[0m\u001b[1;33m.\u001b[0m\u001b[0mrsqrt\u001b[0m\u001b[1;33m(\u001b[0m\u001b[0mvariance\u001b[0m \u001b[1;33m+\u001b[0m \u001b[0mvariance_epsilon\u001b[0m\u001b[1;33m)\u001b[0m\u001b[1;33m\u001b[0m\u001b[1;33m\u001b[0m\u001b[0m\n\u001b[0m\u001b[0;32m   1107\u001b[0m     \u001b[1;32mif\u001b[0m \u001b[0mscale\u001b[0m \u001b[1;32mis\u001b[0m \u001b[1;32mnot\u001b[0m \u001b[1;32mNone\u001b[0m\u001b[1;33m:\u001b[0m\u001b[1;33m\u001b[0m\u001b[1;33m\u001b[0m\u001b[0m\n\u001b[0;32m   1108\u001b[0m       \u001b[0minv\u001b[0m \u001b[1;33m*=\u001b[0m \u001b[0mscale\u001b[0m\u001b[1;33m\u001b[0m\u001b[1;33m\u001b[0m\u001b[0m\n",
      "\u001b[1;32mD:\\Anaconda3\\envs\\TensorFlowGpu\\lib\\site-packages\\tensorflow\\python\\ops\\variables.py\u001b[0m in \u001b[0;36m_run_op\u001b[1;34m(a, *args, **kwargs)\u001b[0m\n\u001b[0;32m    933\u001b[0m     \u001b[1;32mdef\u001b[0m \u001b[0m_run_op\u001b[0m\u001b[1;33m(\u001b[0m\u001b[0ma\u001b[0m\u001b[1;33m,\u001b[0m \u001b[1;33m*\u001b[0m\u001b[0margs\u001b[0m\u001b[1;33m,\u001b[0m \u001b[1;33m**\u001b[0m\u001b[0mkwargs\u001b[0m\u001b[1;33m)\u001b[0m\u001b[1;33m:\u001b[0m\u001b[1;33m\u001b[0m\u001b[1;33m\u001b[0m\u001b[0m\n\u001b[0;32m    934\u001b[0m       \u001b[1;31m# pylint: disable=protected-access\u001b[0m\u001b[1;33m\u001b[0m\u001b[1;33m\u001b[0m\u001b[1;33m\u001b[0m\u001b[0m\n\u001b[1;32m--> 935\u001b[1;33m       \u001b[1;32mreturn\u001b[0m \u001b[0mtensor_oper\u001b[0m\u001b[1;33m(\u001b[0m\u001b[0ma\u001b[0m\u001b[1;33m.\u001b[0m\u001b[0mvalue\u001b[0m\u001b[1;33m(\u001b[0m\u001b[1;33m)\u001b[0m\u001b[1;33m,\u001b[0m \u001b[1;33m*\u001b[0m\u001b[0margs\u001b[0m\u001b[1;33m,\u001b[0m \u001b[1;33m**\u001b[0m\u001b[0mkwargs\u001b[0m\u001b[1;33m)\u001b[0m\u001b[1;33m\u001b[0m\u001b[1;33m\u001b[0m\u001b[0m\n\u001b[0m\u001b[0;32m    936\u001b[0m \u001b[1;33m\u001b[0m\u001b[0m\n\u001b[0;32m    937\u001b[0m     \u001b[0mfunctools\u001b[0m\u001b[1;33m.\u001b[0m\u001b[0mupdate_wrapper\u001b[0m\u001b[1;33m(\u001b[0m\u001b[0m_run_op\u001b[0m\u001b[1;33m,\u001b[0m \u001b[0mtensor_oper\u001b[0m\u001b[1;33m)\u001b[0m\u001b[1;33m\u001b[0m\u001b[1;33m\u001b[0m\u001b[0m\n",
      "\u001b[1;32mD:\\Anaconda3\\envs\\TensorFlowGpu\\lib\\site-packages\\tensorflow\\python\\ops\\math_ops.py\u001b[0m in \u001b[0;36mbinary_op_wrapper\u001b[1;34m(x, y)\u001b[0m\n\u001b[0;32m    822\u001b[0m           \u001b[1;32melse\u001b[0m\u001b[1;33m:\u001b[0m\u001b[1;33m\u001b[0m\u001b[1;33m\u001b[0m\u001b[0m\n\u001b[0;32m    823\u001b[0m             \u001b[1;32mraise\u001b[0m\u001b[1;33m\u001b[0m\u001b[1;33m\u001b[0m\u001b[0m\n\u001b[1;32m--> 824\u001b[1;33m       \u001b[1;32mreturn\u001b[0m \u001b[0mfunc\u001b[0m\u001b[1;33m(\u001b[0m\u001b[0mx\u001b[0m\u001b[1;33m,\u001b[0m \u001b[0my\u001b[0m\u001b[1;33m,\u001b[0m \u001b[0mname\u001b[0m\u001b[1;33m=\u001b[0m\u001b[0mname\u001b[0m\u001b[1;33m)\u001b[0m\u001b[1;33m\u001b[0m\u001b[1;33m\u001b[0m\u001b[0m\n\u001b[0m\u001b[0;32m    825\u001b[0m \u001b[1;33m\u001b[0m\u001b[0m\n\u001b[0;32m    826\u001b[0m   \u001b[1;32mdef\u001b[0m \u001b[0mbinary_op_wrapper_sparse\u001b[0m\u001b[1;33m(\u001b[0m\u001b[0msp_x\u001b[0m\u001b[1;33m,\u001b[0m \u001b[0my\u001b[0m\u001b[1;33m)\u001b[0m\u001b[1;33m:\u001b[0m\u001b[1;33m\u001b[0m\u001b[1;33m\u001b[0m\u001b[0m\n",
      "\u001b[1;32mD:\\Anaconda3\\envs\\TensorFlowGpu\\lib\\site-packages\\tensorflow\\python\\ops\\gen_math_ops.py\u001b[0m in \u001b[0;36madd\u001b[1;34m(x, y, name)\u001b[0m\n\u001b[0;32m    340\u001b[0m       _result = _pywrap_tensorflow.TFE_Py_FastPathExecute(\n\u001b[0;32m    341\u001b[0m         \u001b[0m_ctx\u001b[0m\u001b[1;33m.\u001b[0m\u001b[0m_context_handle\u001b[0m\u001b[1;33m,\u001b[0m \u001b[0m_ctx\u001b[0m\u001b[1;33m.\u001b[0m\u001b[0m_eager_context\u001b[0m\u001b[1;33m.\u001b[0m\u001b[0mdevice_name\u001b[0m\u001b[1;33m,\u001b[0m \u001b[1;34m\"Add\"\u001b[0m\u001b[1;33m,\u001b[0m \u001b[0mname\u001b[0m\u001b[1;33m,\u001b[0m\u001b[1;33m\u001b[0m\u001b[1;33m\u001b[0m\u001b[0m\n\u001b[1;32m--> 342\u001b[1;33m         _ctx._post_execution_callbacks, x, y)\n\u001b[0m\u001b[0;32m    343\u001b[0m       \u001b[1;32mreturn\u001b[0m \u001b[0m_result\u001b[0m\u001b[1;33m\u001b[0m\u001b[1;33m\u001b[0m\u001b[0m\n\u001b[0;32m    344\u001b[0m     \u001b[1;32mexcept\u001b[0m \u001b[0m_core\u001b[0m\u001b[1;33m.\u001b[0m\u001b[0m_FallbackException\u001b[0m\u001b[1;33m:\u001b[0m\u001b[1;33m\u001b[0m\u001b[1;33m\u001b[0m\u001b[0m\n",
      "\u001b[1;31mKeyboardInterrupt\u001b[0m: "
     ]
    }
   ],
   "source": [
    "for ep in range(1, epochs+1):\n",
    "    with tqdm(total = (n_sim * n_chunks) // batch_size, desc='Epoch {}'.format(ep)) as p_bar:\n",
    "        run_epoch(model, optimizer, data_loader, X_test, y_test, p_bar)"
   ]
  },
  {
   "cell_type": "code",
   "execution_count": 85,
   "metadata": {},
   "outputs": [
    {
     "name": "stdout",
     "output_type": "stream",
     "text": [
      "WARNING:tensorflow:From D:\\Anaconda3\\envs\\TensorFlowGpu\\lib\\site-packages\\tensorflow\\python\\keras\\engine\\network.py:1436: update_checkpoint_state (from tensorflow.python.training.checkpoint_management) is deprecated and will be removed in a future version.\n",
      "Instructions for updating:\n",
      "Use tf.train.CheckpointManager to manage checkpoints rather than manually editing the Checkpoint proto.\n"
     ]
    }
   ],
   "source": [
    "model.save_weights('models/rna')"
   ]
  },
  {
   "cell_type": "markdown",
   "metadata": {},
   "source": [
    "## Evaluate model"
   ]
  },
  {
   "cell_type": "code",
   "execution_count": 148,
   "metadata": {},
   "outputs": [
    {
     "data": {
      "image/png": "[encoded data removed]",
      "text/plain": [
       "<Figure size 1080x360 with 7 Axes>"
      ]
     },
     "metadata": {
      "needs_background": "light"
     },
     "output_type": "display_data"
    }
   ],
   "source": [
    "y_pred, y_var = model(X_test, training=True)\n",
    "plot_true_est_scatter(model, y_pred, y_test, param_names, figsize=(15, 5))"
   ]
  },
  {
   "cell_type": "code",
   "execution_count": 149,
   "metadata": {},
   "outputs": [],
   "source": [
    "loss = tf.sqrt(tf.reduce_mean((y_pred - y_test) ** 2, axis=1)).numpy()\n",
    "idx = np.argsort(loss)"
   ]
  },
  {
   "cell_type": "code",
   "execution_count": 150,
   "metadata": {},
   "outputs": [
    {
     "data": {
      "text/plain": [
       "array([126, 268, 410, 197, 339, 481, 409, 196, 267, 480, 338, 125, 378,\n",
       "        94, 236, 165, 307, 449, 495, 211, 424, 282, 353, 140,  98, 311,\n",
       "       382, 169, 453, 240, 467, 112, 254, 396, 183, 325, 328, 257, 470,\n",
       "       399, 115, 186,  73, 428, 286, 215, 144, 499, 357, 384, 100, 455,\n",
       "       171, 242, 313, 296, 154, 438,  83, 225, 367, 388, 175, 317, 104,\n",
       "       246, 459, 350, 279, 421, 137, 492, 208, 448,  93, 235, 306, 164,\n",
       "       377, 119, 261, 190, 332, 403, 474, 354, 212, 496, 425,  70, 283,\n",
       "       141, 250, 321, 179, 392, 108, 463, 221,  79, 150, 363, 292, 434,\n",
       "       427, 214, 356, 143, 285, 498,  72, 420, 491, 136, 207, 278, 349,\n",
       "       389, 247, 176, 460, 318, 105, 121, 192, 263, 334, 405, 476, 148,\n",
       "        77, 290, 361, 219, 432, 161, 232,  90, 374, 445, 303, 482, 340,\n",
       "       198, 269, 411, 127, 289, 431, 147,  76, 360, 218, 300, 229, 158,\n",
       "       371,  87, 442, 157,  86, 299, 441, 228, 370, 255, 397, 326, 468,\n",
       "       184, 113, 308, 166,  95, 379, 450, 237, 473, 118, 189, 331, 402,\n",
       "       260, 415, 344, 202, 273, 486, 131, 101, 314, 456, 385, 243, 172,\n",
       "       416, 203, 487, 274, 345, 132, 471, 258, 329, 400, 187, 116,  80,\n",
       "       435, 364, 293, 151, 222, 288, 359, 146, 217, 430,  75, 174, 103,\n",
       "       387, 316, 458, 245, 315, 386, 173, 244, 102, 457, 227, 156, 440,\n",
       "       298, 369,  85, 294, 436, 223,  81, 152, 365, 472, 259, 330, 401,\n",
       "       117, 188, 149, 220, 433,  78, 291, 362, 336, 478, 407, 123, 194,\n",
       "       265, 216, 358,  74, 429, 145, 287, 275, 204, 488, 346, 417, 133,\n",
       "       335, 477, 264, 122, 406, 193, 142, 355, 284, 426, 213,  71, 497,\n",
       "       280, 209, 138, 493, 351, 422, 168, 381, 239, 452,  97, 310, 483,\n",
       "       199, 128, 270, 341, 412, 205, 134, 347, 276, 489, 418, 304, 446,\n",
       "       375, 162,  91, 233, 343, 130, 414, 485, 201, 272, 253, 466, 182,\n",
       "       395, 111, 324, 224, 295, 437, 153, 366,  82, 106, 461, 177, 319,\n",
       "       248, 390, 333, 404, 262, 475, 191, 120, 185, 469, 398, 327, 114,\n",
       "       256, 348, 206, 277, 419, 490, 135,  84, 297, 439, 226, 368, 155,\n",
       "       302,  89, 231, 160, 444, 373, 391, 462, 249, 178, 320, 107, 413,\n",
       "       342, 129, 200, 271, 484,  92, 447, 234, 163, 376, 305, 309, 380,\n",
       "        96, 451, 238, 167,  99, 170, 383, 312, 454, 241, 195, 266, 408,\n",
       "       337, 124, 479, 181, 252, 394, 465, 323, 110,  88, 443, 372, 159,\n",
       "       301, 230, 393, 322, 180, 464, 251, 109, 281, 494, 139, 423, 210,\n",
       "       352,   8,  39,  13,  50,  21,  64,  25,  27,  18,  20,  12,  11,\n",
       "        68,  60,  40,  26,   7,  31,  22,  35,  24,  17,  56,  57,  54,\n",
       "        30,  47,  28,  37,  29,  43,  69,  58,  61,  23,  62,  16,   1,\n",
       "        36,   5,  59,  19,  65,  66,  42,  14,  38,   4,  52,  53,   2,\n",
       "         9,  41,  15,  55,  63,  67,  48,  46,  34,   6,   0,  51,  10,\n",
       "        32,  49,  44,   3,  33,  45], dtype=int64)"
      ]
     },
     "execution_count": 150,
     "metadata": {},
     "output_type": "execute_result"
    }
   ],
   "source": [
    "idx"
   ]
  },
  {
   "cell_type": "code",
   "execution_count": 151,
   "metadata": {},
   "outputs": [
    {
     "data": {
      "text/plain": [
       "2.4861953"
      ]
     },
     "execution_count": 151,
     "metadata": {},
     "output_type": "execute_result"
    }
   ],
   "source": [
    "loss[45]"
   ]
  },
  {
   "cell_type": "code",
   "execution_count": 153,
   "metadata": {},
   "outputs": [
    {
     "data": {
      "text/plain": [
       "array([[  0.,   1.,   0., ...,   0.,   1.,   1.],\n",
       "       [  0.,   0.,   0., ...,   0.,   0.,   0.],\n",
       "       [133., 179.,  77., ...,  66.,  57., 129.],\n",
       "       ...,\n",
       "       [  0.,   0.,   0., ...,   0.,   0.,   0.],\n",
       "       [  3.,   1.,   7., ...,   1.,   1.,   1.],\n",
       "       [299., 213., 247., ..., 118., 103., 269.]], dtype=float32)"
      ]
     },
     "execution_count": 153,
     "metadata": {},
     "output_type": "execute_result"
    }
   ],
   "source": [
    "X_test[45].numpy()"
   ]
  },
  {
   "cell_type": "code",
   "execution_count": 122,
   "metadata": {},
   "outputs": [
    {
     "data": {
      "text/plain": [
       "<tf.Tensor: id=30482988, shape=(100, 100), dtype=float32, numpy=\n",
       "array([[  0.,   1.,   0., ...,   0.,   1.,   1.],\n",
       "       [  0.,   0.,   0., ...,   0.,   0.,   0.],\n",
       "       [133., 179.,  77., ...,  66.,  57., 129.],\n",
       "       ...,\n",
       "       [  0.,   0.,   0., ...,   0.,   0.,   0.],\n",
       "       [  3.,   1.,   7., ...,   1.,   1.,   1.],\n",
       "       [299., 213., 247., ..., 118., 103., 269.]], dtype=float32)>"
      ]
     },
     "execution_count": 122,
     "metadata": {},
     "output_type": "execute_result"
    }
   ],
   "source": [
    "X_test2[45]"
   ]
  },
  {
   "cell_type": "code",
   "execution_count": null,
   "metadata": {},
   "outputs": [],
   "source": []
  }
 ],
 "metadata": {
  "kernelspec": {
   "display_name": "Python 3",
   "language": "python",
   "name": "python3"
  },
  "language_info": {
   "codemirror_mode": {
    "name": "ipython",
    "version": 3
   },
   "file_extension": ".py",
   "mimetype": "text/x-python",
   "name": "python",
   "nbconvert_exporter": "python",
   "pygments_lexer": "ipython3",
   "version": "3.6.8"
  },
  "toc": {
   "base_numbering": 1,
   "nav_menu": {},
   "number_sections": true,
   "sideBar": true,
   "skip_h1_title": false,
   "title_cell": "Table of Contents",
   "title_sidebar": "Contents",
   "toc_cell": false,
   "toc_position": {
    "height": "calc(100% - 180px)",
    "left": "10px",
    "top": "150px",
    "width": "239.433px"
   },
   "toc_section_display": true,
   "toc_window_display": true
  }
 },
 "nbformat": 4,
 "nbformat_minor": 2
}
