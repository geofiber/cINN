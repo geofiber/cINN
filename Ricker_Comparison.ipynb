{
 "cells": [
  {
   "cell_type": "code",
   "execution_count": 1,
   "metadata": {},
   "outputs": [
    {
     "name": "stderr",
     "output_type": "stream",
     "text": [
      "D:\\Anaconda3\\envs\\TensorFlowGpu\\lib\\site-packages\\h5py\\__init__.py:72: UserWarning: h5py is running against HDF5 1.10.2 when it was built against 1.10.3, this may cause problems\n",
      "  '{0}.{1}.{2}'.format(*version.hdf5_built_version_tuple)\n"
     ]
    }
   ],
   "source": [
    "import tensorflow as tf\n",
    "from tensorflow.keras.regularizers import l2\n",
    "import tensorflow.contrib.eager as tfe\n",
    "from tqdm import tqdm_notebook as tqdm\n",
    "import numpy as np\n",
    "import pandas as pd\n",
    "import pickle\n",
    "from scipy import stats\n",
    "import matplotlib.pyplot as plt\n",
    "import seaborn as sns\n",
    "np.set_printoptions(suppress=True)\n",
    "\n",
    "from models import DeepConditionalModel, ConditionalVAE, HeteroscedasticModel, IAFConditionalVAE\n",
    "from inn_utils import (train_online_ml, compute_metrics, train_online_kl, \n",
    "                       train_online_heteroscedastic, train_online_iaf)\n",
    "from process_models import simulate_ricker_params, simulate_ricker, load_test_ricker\n",
    "from viz import (plot_true_est_scatter, plot_true_est_posterior, \n",
    "                 plot_losses, plot_sbc, plot_metrics, plot_variance,\n",
    "                 plot_true_est_posterior_samples)\n",
    "import diagnostics as diag"
   ]
  },
  {
   "cell_type": "code",
   "execution_count": 2,
   "metadata": {},
   "outputs": [],
   "source": [
    "tf.enable_eager_execution()"
   ]
  },
  {
   "cell_type": "code",
   "execution_count": 3,
   "metadata": {},
   "outputs": [],
   "source": [
    "%load_ext autoreload\n",
    "%autoreload 2"
   ]
  },
  {
   "cell_type": "markdown",
   "metadata": {},
   "source": [
    "# Conditional Invertible Neural Network (cINN)"
   ]
  },
  {
   "cell_type": "markdown",
   "metadata": {},
   "source": [
    "## Summary network for the Ricker model\n",
    "<p>We use an LSTM for the observed time-series data.</p>"
   ]
  },
  {
   "cell_type": "code",
   "execution_count": 4,
   "metadata": {
    "code_folding": []
   },
   "outputs": [],
   "source": [
    "class SequenceNetwork(tf.keras.Model):\n",
    "    \"\"\"\n",
    "    Implements an LSTM summary network to summarize time-series data generated from the Ricker model.\n",
    "    \"\"\"\n",
    "    \n",
    "    def __init__(self, h_lstm_dim=32, h_dense_dim=64):\n",
    "        super(SequenceNetwork, self).__init__()\n",
    "        \n",
    "        self.summary_part = tf.keras.Sequential([\n",
    "            tf.keras.layers.Bidirectional(tf.keras.layers.CuDNNLSTM(h_lstm_dim)),\n",
    "            tf.keras.layers.BatchNormalization(),\n",
    "            tf.keras.layers.Dense(h_dense_dim, kernel_initializer='glorot_uniform'),\n",
    "            tf.keras.layers.BatchNormalization(),\n",
    "            tf.keras.layers.Activation('elu'),\n",
    "            tf.keras.layers.Dense(h_dense_dim, kernel_initializer='glorot_uniform'),\n",
    "            tf.keras.layers.BatchNormalization(),\n",
    "            tf.keras.layers.Activation('elu'),\n",
    "        ])\n",
    "    \n",
    "    def call(self, x, training=True):\n",
    "        \n",
    "        x = self.summary_part(x, training=training)\n",
    "        return x"
   ]
  },
  {
   "cell_type": "markdown",
   "metadata": {},
   "source": [
    "<p>We will also append a dummy noise parameter to the true parameter vector.</p>"
   ]
  },
  {
   "cell_type": "code",
   "execution_count": 5,
   "metadata": {},
   "outputs": [],
   "source": [
    "def add_noise_var(X_batch, theta_batch):\n",
    "    \"\"\"\n",
    "    Adds a column of uniform noise to the true parameter values.\n",
    "    \"\"\"\n",
    "    \n",
    "    noise_col = tf.random_uniform(shape=(theta_batch.shape[0], 1))\n",
    "    theta_batch = tf.concat((theta_batch, noise_col), axis=-1)\n",
    "    return X_batch, theta_batch"
   ]
  },
  {
   "cell_type": "markdown",
   "metadata": {},
   "source": [
    "## Initialization "
   ]
  },
  {
   "cell_type": "code",
   "execution_count": null,
   "metadata": {
    "code_folding": []
   },
   "outputs": [],
   "source": [
    "# --- Structure of the coupling blocks in the INN chain --- #\n",
    "inv_meta = {\n",
    "    'n_units': [64, 64, 64, 64],\n",
    "    'activation': 'elu',\n",
    "    'w_decay': 0.00001,\n",
    "    'initializer': 'glorot_uniform'\n",
    "}\n",
    "\n",
    "\n",
    "# --- Training hyperparameters --- #\n",
    "train = False\n",
    "param_names = [r'$r$', r'$\\sigma$', r'$\\rho$', r'u']\n",
    "theta_dim = 4\n",
    "global_step = tfe.Variable(0, dtype=tf.int32)\n",
    "batch_size = 64\n",
    "summary_dim = 64\n",
    "epochs = 100\n",
    "iterations_per_epoch = 1000\n",
    "n_inv_blocks = 10\n",
    "n_test = 300\n",
    "n_test2 = 3\n",
    "n_samples_posterior = 2000\n",
    "starter_learning_rate = 0.001\n",
    "decay_steps = 2000\n",
    "decay_rate = .95\n",
    "clip_value = 5.\n",
    "learning_rate = tf.train.exponential_decay(starter_learning_rate, global_step, decay_steps, decay_rate)"
   ]
  },
  {
   "cell_type": "markdown",
   "metadata": {},
   "source": [
    "### Create test data"
   ]
  },
  {
   "cell_type": "code",
   "execution_count": null,
   "metadata": {},
   "outputs": [],
   "source": [
    "# For scatter\n",
    "X_test, theta_test = load_test_ricker()"
   ]
  },
  {
   "cell_type": "markdown",
   "metadata": {},
   "source": [
    "### Create networks"
   ]
  },
  {
   "cell_type": "code",
   "execution_count": null,
   "metadata": {},
   "outputs": [],
   "source": [
    "summary_net = SequenceNetwork(h_lstm_dim=summary_dim)\n",
    "model = DeepConditionalModel(inv_meta, n_inv_blocks, theta_dim, summary_net=summary_net, permute=True)\n",
    "optimizer = tf.train.AdamOptimizer(learning_rate=learning_rate)"
   ]
  },
  {
   "cell_type": "markdown",
   "metadata": {},
   "source": [
    "### Plot performance of untrained networks"
   ]
  },
  {
   "cell_type": "code",
   "execution_count": null,
   "metadata": {},
   "outputs": [],
   "source": [
    "plot_true_est_scatter(model, X_test, theta_test, n_samples_posterior, param_names, figsize=(10, 3))"
   ]
  },
  {
   "cell_type": "markdown",
   "metadata": {},
   "source": [
    "### Checkpoint manager"
   ]
  },
  {
   "cell_type": "code",
   "execution_count": null,
   "metadata": {},
   "outputs": [],
   "source": [
    "checkpoint = tf.train.Checkpoint(step=global_step, optimizer=optimizer, net=model)\n",
    "manager = tf.train.CheckpointManager(checkpoint, './checkpoints/ricker', max_to_keep=5)\n",
    "checkpoint.restore(manager.latest_checkpoint)\n",
    "if manager.latest_checkpoint:\n",
    "    print(\"Restored from {}\".format(manager.latest_checkpoint))\n",
    "else:\n",
    "    print(\"Initializing from scratch.\")"
   ]
  },
  {
   "cell_type": "markdown",
   "metadata": {},
   "source": [
    "## Train the model"
   ]
  },
  {
   "cell_type": "code",
   "execution_count": null,
   "metadata": {},
   "outputs": [],
   "source": [
    "# %%time\n",
    "# for ep in range(1, epochs+1):\n",
    "#     with tqdm(total=iterations_per_epoch, desc='Training epoch {}'.format(ep)) as p_bar:\n",
    "#         losses = train_online_ml(model, optimizer, simulate_ricker, iterations_per_epoch, \n",
    "#                                  batch_size, p_bar, clip_value=clip_value, \n",
    "#                                  global_step=global_step, transform=add_noise_var)\n",
    "\n",
    "#         # Store checkpoint\n",
    "#         manager.save()"
   ]
  },
  {
   "cell_type": "markdown",
   "metadata": {},
   "source": [
    "## Evaluate the trained model"
   ]
  },
  {
   "cell_type": "markdown",
   "metadata": {},
   "source": [
    "### Posterior means (recovery)"
   ]
  },
  {
   "cell_type": "code",
   "execution_count": null,
   "metadata": {},
   "outputs": [],
   "source": [
    "plot_true_est_scatter(model, X_test, theta_test, n_samples_posterior, param_names, figsize=(10, 3))"
   ]
  },
  {
   "cell_type": "markdown",
   "metadata": {},
   "source": [
    "### Full posterior (visual inspection)"
   ]
  },
  {
   "cell_type": "code",
   "execution_count": null,
   "metadata": {
    "code_folding": []
   },
   "outputs": [],
   "source": [
    "plot_true_est_posterior(model, n_samples=n_samples_posterior, param_names=param_names, \n",
    "                        X_test=X_test[:4, :], theta_test=theta_test[:4, :], tight=True, figsize=(10, 4))"
   ]
  },
  {
   "cell_type": "markdown",
   "metadata": {},
   "source": [
    "### Errors"
   ]
  },
  {
   "cell_type": "code",
   "execution_count": null,
   "metadata": {},
   "outputs": [],
   "source": [
    "n_bootstrap = 100\n",
    "theta_samples = model.sample(X_test, n_samples_posterior, to_numpy=True)\n",
    "with tqdm(total=n_bootstrap, desc='Bootstrapping metrics...') as p_bar:\n",
    "    b = diag.bootstrap_metrics(theta_samples, theta_test, simulate_ricker_params, p_bar, n_bootstrap)\n",
    "pickle.dump(b, open('results/errors_cINN.pkl', 'wb+'))"
   ]
  },
  {
   "cell_type": "markdown",
   "metadata": {},
   "source": [
    "# Conditional Variational Autoencoder (cVAE)"
   ]
  },
  {
   "cell_type": "markdown",
   "metadata": {},
   "source": [
    "## Initialization"
   ]
  },
  {
   "cell_type": "markdown",
   "metadata": {},
   "source": [
    "### Training hyperparameters"
   ]
  },
  {
   "cell_type": "code",
   "execution_count": 6,
   "metadata": {},
   "outputs": [],
   "source": [
    "# --- Structure of the VAE --- #\n",
    "vae_meta = {\n",
    "    'n_units': [128, 128, 128, 128, 128],\n",
    "    'activation': 'elu',\n",
    "    'w_decay': 0.0,\n",
    "    'initializer': 'glorot_uniform'\n",
    "}\n",
    "\n",
    "# --- Training hyperparameters --- #\n",
    "param_names = [r'$r$', r'$\\sigma$', r'$\\rho$', r'u']\n",
    "theta_dim = len(param_names)\n",
    "global_step = tfe.Variable(0, dtype=tf.int32)\n",
    "batch_size = 64\n",
    "summary_dim = 64\n",
    "z_dim = 4\n",
    "beta = tfe.Variable(0.0, dtype=tf.float32)\n",
    "beta_step = 500\n",
    "beta_increment = 0.01\n",
    "beta_max = 0.1\n",
    "epochs = 100\n",
    "iterations_per_epoch = 1000\n",
    "n_test = 300\n",
    "n_test2 = 3\n",
    "n_samples_posterior = 2000\n",
    "starter_learning_rate = 0.001\n",
    "decay_steps = 2000\n",
    "decay_rate = .95\n",
    "clip_value = 5.\n",
    "learning_rate = tf.train.exponential_decay(starter_learning_rate, global_step, \n",
    "                                           decay_steps, decay_rate, staircase=True)"
   ]
  },
  {
   "cell_type": "markdown",
   "metadata": {},
   "source": [
    "### Create test data"
   ]
  },
  {
   "cell_type": "code",
   "execution_count": 7,
   "metadata": {},
   "outputs": [],
   "source": [
    "# For scatter\n",
    "X_test, theta_test = load_test_ricker()"
   ]
  },
  {
   "cell_type": "markdown",
   "metadata": {},
   "source": [
    "### Create networks"
   ]
  },
  {
   "cell_type": "code",
   "execution_count": 8,
   "metadata": {},
   "outputs": [],
   "source": [
    "summary_net = SequenceNetwork(h_lstm_dim=summary_dim)\n",
    "vae = ConditionalVAE(vae_meta, theta_dim, z_dim, summary_net)\n",
    "optimizer = tf.train.AdamOptimizer(learning_rate=learning_rate)"
   ]
  },
  {
   "cell_type": "markdown",
   "metadata": {},
   "source": [
    "### Plot performance of untrained networks"
   ]
  },
  {
   "cell_type": "code",
   "execution_count": 9,
   "metadata": {},
   "outputs": [
    {
     "name": "stdout",
     "output_type": "stream",
     "text": [
      "WARNING:tensorflow:From D:\\Anaconda3\\envs\\TensorFlowGpu\\lib\\site-packages\\tensorflow\\python\\ops\\resource_variable_ops.py:642: colocate_with (from tensorflow.python.framework.ops) is deprecated and will be removed in a future version.\n",
      "Instructions for updating:\n",
      "Colocations handled automatically by placer.\n"
     ]
    },
    {
     "data": {
      "image/png": "[encoded data removed]",
      "text/plain": [
       "<Figure size 720x216 with 4 Axes>"
      ]
     },
     "metadata": {
      "needs_background": "light"
     },
     "output_type": "display_data"
    }
   ],
   "source": [
    "plot_true_est_scatter(vae, X_test, theta_test, n_samples_posterior, param_names, figsize=(10, 3))"
   ]
  },
  {
   "cell_type": "markdown",
   "metadata": {},
   "source": [
    "### Create checkpoints"
   ]
  },
  {
   "cell_type": "code",
   "execution_count": 10,
   "metadata": {},
   "outputs": [
    {
     "name": "stdout",
     "output_type": "stream",
     "text": [
      "Restored from ./checkpoints/ricker_vae\\ckpt-final\n"
     ]
    }
   ],
   "source": [
    "checkpoint = tf.train.Checkpoint(step=global_step, optimizer=optimizer, net=vae)\n",
    "manager = tf.train.CheckpointManager(checkpoint, './checkpoints/ricker_vae', max_to_keep=5)\n",
    "checkpoint.restore(manager.latest_checkpoint)\n",
    "if manager.latest_checkpoint:\n",
    "    print(\"Restored from {}\".format(manager.latest_checkpoint))\n",
    "else:\n",
    "    print(\"Initializing from scratch.\")"
   ]
  },
  {
   "cell_type": "markdown",
   "metadata": {},
   "source": [
    "## Train the model"
   ]
  },
  {
   "cell_type": "code",
   "execution_count": 11,
   "metadata": {},
   "outputs": [],
   "source": [
    "# %%time\n",
    "# for ep in range(1, 30+1):\n",
    "#     with tqdm(total=iterations_per_epoch, desc='Training epoch {}'.format(ep)) as p_bar:\n",
    "        \n",
    "#         losses = train_online_kl(vae, optimizer, simulate_ricker, iterations_per_epoch, \n",
    "#                             batch_size, beta, p_bar, clip_value=clip_value, \n",
    "#                             global_step=global_step, beta_step=beta_step, beta_increment=beta_increment)\n",
    "        \n",
    "#         # Plot stuff\n",
    "#         plot_true_est_scatter(vae, X_test, theta_test, n_samples_posterior, param_names, figsize=(8, 3))\n",
    "\n",
    "#         # Store checkpoint\n",
    "#         manager.save()"
   ]
  },
  {
   "cell_type": "markdown",
   "metadata": {},
   "source": [
    "## Evaluate the trained model"
   ]
  },
  {
   "cell_type": "markdown",
   "metadata": {},
   "source": [
    "### Posterior means (recovery)"
   ]
  },
  {
   "cell_type": "code",
   "execution_count": 12,
   "metadata": {},
   "outputs": [
    {
     "data": {
      "image/png": "[encoded data removed]",
      "text/plain": [
       "<Figure size 720x216 with 4 Axes>"
      ]
     },
     "metadata": {
      "needs_background": "light"
     },
     "output_type": "display_data"
    }
   ],
   "source": [
    "plot_true_est_scatter(vae, X_test, theta_test, n_samples_posterior, param_names, figsize=(10, 3))"
   ]
  },
  {
   "cell_type": "markdown",
   "metadata": {},
   "source": [
    "### Full posterior (visual)"
   ]
  },
  {
   "cell_type": "code",
   "execution_count": 13,
   "metadata": {},
   "outputs": [
    {
     "data": {
      "image/png": "[encoded data removed]",
      "text/plain": [
       "<Figure size 720x288 with 16 Axes>"
      ]
     },
     "metadata": {
      "needs_background": "light"
     },
     "output_type": "display_data"
    }
   ],
   "source": [
    "plot_true_est_posterior(vae, n_samples=n_samples_posterior, param_names=param_names, \n",
    "                        X_test=X_test[:4, :], theta_test=theta_test[:4, :], tight=True, figsize=(10, 4))"
   ]
  },
  {
   "cell_type": "markdown",
   "metadata": {},
   "source": [
    "### Simulation-based calibration"
   ]
  },
  {
   "cell_type": "code",
   "execution_count": 14,
   "metadata": {},
   "outputs": [
    {
     "data": {
      "image/png": "[encoded data removed]",
      "text/plain": [
       "<Figure size 720x216 with 4 Axes>"
      ]
     },
     "metadata": {
      "needs_background": "light"
     },
     "output_type": "display_data"
    }
   ],
   "source": [
    "plot_sbc(vae, n_samples_posterior, X_test, theta_test, param_names, figsize=(10, 3))"
   ]
  },
  {
   "cell_type": "markdown",
   "metadata": {},
   "source": [
    "### Errors"
   ]
  },
  {
   "cell_type": "code",
   "execution_count": null,
   "metadata": {},
   "outputs": [
    {
     "data": {
      "application/vnd.jupyter.widget-view+json": {
       "model_id": "1e676594cadc41688fd9b0fd2caf91aa",
       "version_major": 2,
       "version_minor": 0
      },
      "text/plain": [
       "HBox(children=(IntProgress(value=0, description='Bootstrapping metrics...', style=ProgressStyle(description_wi…"
      ]
     },
     "metadata": {},
     "output_type": "display_data"
    }
   ],
   "source": [
    "n_bootstrap = 100\n",
    "theta_samples = vae.sample(X_test, n_samples_posterior, to_numpy=True)\n",
    "with tqdm(total=n_bootstrap, desc='Bootstrapping metrics...') as p_bar:\n",
    "    b = diag.bootstrap_metrics(theta_samples, theta_test, simulate_ricker_params, p_bar, n_bootstrap)\n",
    "pickle.dump(b, open('results/errors_cVAE.pkl', 'wb+'))"
   ]
  },
  {
   "cell_type": "markdown",
   "metadata": {},
   "source": [
    "# DeepInference (heteroscedastic loss)"
   ]
  },
  {
   "cell_type": "markdown",
   "metadata": {},
   "source": [
    "## Initialization"
   ]
  },
  {
   "cell_type": "markdown",
   "metadata": {},
   "source": [
    "### Training hyperparameters"
   ]
  },
  {
   "cell_type": "code",
   "execution_count": null,
   "metadata": {},
   "outputs": [],
   "source": [
    "# --- Structure of the inference network--- #\n",
    "model_meta = {\n",
    "    'n_units': [128, 128, 128, 128, 128],\n",
    "    'activation': 'elu',\n",
    "    'w_decay': 0.00001,\n",
    "    'initializer': 'glorot_uniform'\n",
    "}\n",
    "\n",
    "# --- Training hyperparameters --- #\n",
    "param_names = [r'$r$', r'$\\sigma$', r'$\\rho$', r'u']\n",
    "theta_dim = len(param_names)\n",
    "global_step = tfe.Variable(0, dtype=tf.int32)\n",
    "batch_size = 64\n",
    "summary_dim = 64\n",
    "epochs = 100\n",
    "iterations_per_epoch = 1000\n",
    "n_test = 300\n",
    "n_test2 = 3\n",
    "n_samples_posterior = 2000\n",
    "starter_learning_rate = 0.001\n",
    "decay_steps = 1000\n",
    "decay_rate = .95\n",
    "clip_value = 5.\n",
    "learning_rate = tf.train.exponential_decay(starter_learning_rate, global_step, \n",
    "                                           decay_steps, decay_rate, staircase=True)"
   ]
  },
  {
   "cell_type": "markdown",
   "metadata": {},
   "source": [
    "### Create test data"
   ]
  },
  {
   "cell_type": "code",
   "execution_count": null,
   "metadata": {},
   "outputs": [],
   "source": [
    "# For scatter\n",
    "X_test, theta_test = load_test_ricker()"
   ]
  },
  {
   "cell_type": "markdown",
   "metadata": {},
   "source": [
    "### Create networks"
   ]
  },
  {
   "cell_type": "code",
   "execution_count": null,
   "metadata": {},
   "outputs": [],
   "source": [
    "summary_net = SequenceNetwork(h_lstm_dim=summary_dim)\n",
    "model = HeteroscedasticModel(model_meta, theta_dim, summary_net)\n",
    "optimizer = tf.train.AdamOptimizer(learning_rate=learning_rate)"
   ]
  },
  {
   "cell_type": "markdown",
   "metadata": {},
   "source": [
    "### Plot performance of untrained networks"
   ]
  },
  {
   "cell_type": "code",
   "execution_count": null,
   "metadata": {},
   "outputs": [],
   "source": [
    "plot_true_est_scatter(model, X_test, theta_test, n_samples_posterior, param_names, figsize=(10, 3))"
   ]
  },
  {
   "cell_type": "markdown",
   "metadata": {},
   "source": [
    "### Create checkpoints"
   ]
  },
  {
   "cell_type": "code",
   "execution_count": null,
   "metadata": {},
   "outputs": [],
   "source": [
    "checkpoint = tf.train.Checkpoint(step=global_step, optimizer=optimizer, net=model)\n",
    "manager = tf.train.CheckpointManager(checkpoint, './checkpoints/ricker_deep_inference', max_to_keep=5)\n",
    "checkpoint.restore(manager.latest_checkpoint)\n",
    "if manager.latest_checkpoint:\n",
    "    print(\"Restored from {}\".format(manager.latest_checkpoint))\n",
    "else:\n",
    "    print(\"Initializing from scratch.\")"
   ]
  },
  {
   "cell_type": "markdown",
   "metadata": {},
   "source": [
    "## Train the model"
   ]
  },
  {
   "cell_type": "code",
   "execution_count": null,
   "metadata": {},
   "outputs": [],
   "source": [
    "# %%time\n",
    "# for ep in range(1, epochschs+1):\n",
    "#     with tqdm(total=iterations_per_epoch, desc='Training epoch {}'.format(ep)) as p_bar:\n",
    "        \n",
    "#         losses = train_online_heteroscedastic(model, optimizer, simulate_ricker, iterations_per_epoch, \n",
    "#                             batch_size, p_bar, clip_value=clip_value, global_step=global_step)\n",
    "        \n",
    "#         # Plot stuff\n",
    "#         plot_true_est_scatter(model, X_test, theta_test, n_samples_posterior, param_names, figsize=(8, 3))\n",
    "\n",
    "#         # Store checkpoint\n",
    "#         manager.save()"
   ]
  },
  {
   "cell_type": "markdown",
   "metadata": {},
   "source": [
    "## Evaluate the trained model"
   ]
  },
  {
   "cell_type": "markdown",
   "metadata": {},
   "source": [
    "### Posterior means (recovery)"
   ]
  },
  {
   "cell_type": "code",
   "execution_count": null,
   "metadata": {},
   "outputs": [],
   "source": [
    "plot_true_est_scatter(model, X_test, theta_test, n_samples_posterior, param_names, figsize=(10, 3))"
   ]
  },
  {
   "cell_type": "markdown",
   "metadata": {},
   "source": [
    "### Full posteriors (visual)"
   ]
  },
  {
   "cell_type": "code",
   "execution_count": null,
   "metadata": {},
   "outputs": [],
   "source": [
    "plot_true_est_posterior(model, n_samples=n_samples_posterior, param_names=param_names, \n",
    "                        X_test=X_test[:4, :], theta_test=theta_test[:4, :], tight=True, figsize=(10, 4))"
   ]
  },
  {
   "cell_type": "markdown",
   "metadata": {},
   "source": [
    "### Simulation-based calibration"
   ]
  },
  {
   "cell_type": "code",
   "execution_count": null,
   "metadata": {},
   "outputs": [],
   "source": [
    "plot_sbc(model, n_samples_posterior, X_test, theta_test, param_names, figsize=(10, 4))"
   ]
  },
  {
   "cell_type": "markdown",
   "metadata": {},
   "source": [
    "### Errors"
   ]
  },
  {
   "cell_type": "code",
   "execution_count": null,
   "metadata": {},
   "outputs": [],
   "source": [
    "n_bootstrap = 100\n",
    "theta_samples = model.sample(X_test, n_samples_posterior, to_numpy=True)\n",
    "with tqdm(total=n_bootstrap, desc='Bootstrapping metrics...') as p_bar:\n",
    "    b = diag.bootstrap_metrics(theta_samples, theta_test, simulate_ricker_params, p_bar, n_bootstrap)\n",
    "pickle.dump(b, open('results/errors_cVAE.pkl', 'wb+'))"
   ]
  },
  {
   "cell_type": "markdown",
   "metadata": {},
   "source": [
    "# cVAE with Inverse Autoregressive Flow cVAE-IAF"
   ]
  },
  {
   "cell_type": "markdown",
   "metadata": {},
   "source": [
    "## Initialization"
   ]
  },
  {
   "cell_type": "markdown",
   "metadata": {},
   "source": [
    "### Training hyperparameters"
   ]
  },
  {
   "cell_type": "code",
   "execution_count": null,
   "metadata": {},
   "outputs": [],
   "source": [
    "# --- Structure of the VAE --- #\n",
    "vae_iaf_meta = {\n",
    "    'n_units': [128, 128, 128, 128],\n",
    "    'activation': 'elu',\n",
    "    'w_decay': 0.0,\n",
    "    'initializer': 'glorot_uniform'\n",
    "}\n",
    "\n",
    "# --- Training hyperparameters --- #\n",
    "param_names = [r'$r$', r'$\\sigma$', r'$\\rho$', r'u']\n",
    "theta_dim = len(param_names)\n",
    "n_iaf = 2\n",
    "global_step = tfe.Variable(0, dtype=tf.int32)\n",
    "batch_size = 64\n",
    "summary_dim = 64\n",
    "z_dim = 4\n",
    "beta = tfe.Variable(0.0, dtype=tf.float32)\n",
    "beta_max = 0.1\n",
    "beta_step = 500\n",
    "beta_increment = 0.01\n",
    "epochs = 100\n",
    "iterations_per_epoch = 1000\n",
    "n_test = 300\n",
    "n_test2 = 3\n",
    "n_samples_posterior = 2000\n",
    "starter_learning_rate = 0.0005\n",
    "decay_steps = 2000\n",
    "decay_rate = .95\n",
    "clip_value = 5.\n",
    "learning_rate = tf.train.exponential_decay(starter_learning_rate, global_step, \n",
    "                                           decay_steps, decay_rate, staircase=True)"
   ]
  },
  {
   "cell_type": "markdown",
   "metadata": {},
   "source": [
    "### Create test data"
   ]
  },
  {
   "cell_type": "code",
   "execution_count": null,
   "metadata": {},
   "outputs": [],
   "source": [
    "# For scatter\n",
    "X_test, theta_test = load_test_ricker()"
   ]
  },
  {
   "cell_type": "markdown",
   "metadata": {},
   "source": [
    "### Create networks"
   ]
  },
  {
   "cell_type": "code",
   "execution_count": null,
   "metadata": {},
   "outputs": [],
   "source": [
    "summary_net = SequenceNetwork(h_lstm_dim=summary_dim)\n",
    "vae_iaf = IAFConditionalVAE(vae_iaf_meta, theta_dim, z_dim, n_iaf, summary_net)\n",
    "optimizer = tf.train.AdamOptimizer(learning_rate=learning_rate)"
   ]
  },
  {
   "cell_type": "markdown",
   "metadata": {},
   "source": [
    "### Plot performance of untrained networks"
   ]
  },
  {
   "cell_type": "code",
   "execution_count": null,
   "metadata": {},
   "outputs": [],
   "source": [
    "plot_true_est_scatter(vae_iaf, X_test, theta_test, n_samples_posterior, param_names, figsize=(10, 3))"
   ]
  },
  {
   "cell_type": "markdown",
   "metadata": {},
   "source": [
    "### Create checkpoints"
   ]
  },
  {
   "cell_type": "code",
   "execution_count": null,
   "metadata": {},
   "outputs": [],
   "source": [
    "checkpoint = tf.train.Checkpoint(step=global_step, optimizer=optimizer, net=vae_iaf)\n",
    "manager = tf.train.CheckpointManager(checkpoint, './checkpoints/ricker_vae_iaf', max_to_keep=5)\n",
    "checkpoint.restore(manager.latest_checkpoint)\n",
    "if manager.latest_checkpoint:\n",
    "    print(\"Restored from {}\".format(manager.latest_checkpoint))\n",
    "else:\n",
    "    print(\"Initializing from scratch.\")"
   ]
  },
  {
   "cell_type": "markdown",
   "metadata": {},
   "source": [
    "## Train the model"
   ]
  },
  {
   "cell_type": "code",
   "execution_count": null,
   "metadata": {},
   "outputs": [],
   "source": [
    "# %%time\n",
    "# for ep in range(1, 30+1):\n",
    "#     with tqdm(total=iterations_per_epoch, desc='Training epoch {}'.format(ep)) as p_bar:\n",
    "        \n",
    "#         losses = train_online_iaf(vae_iaf, optimizer, simulate_ricker, iterations_per_epoch, \n",
    "#                                   batch_size, beta, p_bar, clip_value=clip_value, \n",
    "#                                   global_step=global_step, beta_max=beta_max,\n",
    "#                                   beta_step=beta_step, beta_increment=beta_increment)\n",
    "        \n",
    "#         # Plot stuff\n",
    "#         plot_true_est_scatter(vae_iaf, X_test, theta_test, n_samples_posterior, param_names, figsize=(8, 3))\n",
    "\n",
    "#         # Store checkpoint\n",
    "#         manager.save()"
   ]
  },
  {
   "cell_type": "markdown",
   "metadata": {},
   "source": [
    "## Evaluate model"
   ]
  },
  {
   "cell_type": "markdown",
   "metadata": {},
   "source": [
    "### Posterior means recovery"
   ]
  },
  {
   "cell_type": "code",
   "execution_count": null,
   "metadata": {},
   "outputs": [],
   "source": [
    "plot_true_est_scatter(vae_iaf, X_test, theta_test, n_samples_posterior, param_names, figsize=(10, 3))"
   ]
  },
  {
   "cell_type": "markdown",
   "metadata": {},
   "source": [
    "### Full posteriors"
   ]
  },
  {
   "cell_type": "code",
   "execution_count": null,
   "metadata": {},
   "outputs": [],
   "source": [
    "plot_true_est_posterior(vae, n_samples=n_samples_posterior, param_names=param_names, \n",
    "                        X_test=X_test[:4, :], theta_test=theta_test[:4, :], tight=True, figsize=(10, 4))"
   ]
  },
  {
   "cell_type": "markdown",
   "metadata": {},
   "source": [
    "# ABC Random Forest"
   ]
  },
  {
   "cell_type": "markdown",
   "metadata": {},
   "source": [
    "## Load test data"
   ]
  },
  {
   "cell_type": "code",
   "execution_count": null,
   "metadata": {},
   "outputs": [],
   "source": [
    "X_test, theta_test = load_test_ricker()"
   ]
  },
  {
   "cell_type": "markdown",
   "metadata": {},
   "source": [
    "## SImulate a reference table"
   ]
  },
  {
   "cell_type": "code",
   "execution_count": null,
   "metadata": {},
   "outputs": [],
   "source": [
    "def simulate_ricker_abcrf(n_simulations, summary_net, n_pro_chunk=1000, n_points=None):\n",
    "    \"\"\"\n",
    "    Simulates multiple Ricker simulations and summarizes them using the summaries from cINN.\n",
    "    Stores eveything in a list.\n",
    "    \"\"\"\n",
    "    \n",
    "    X_train = []\n",
    "    theta_train = []\n",
    "    n_chunks = n_simulations // n_pro_chunk\n",
    "    \n",
    "    for i in range(n_chunks):\n",
    "        \n",
    "        X_train_chunk, theta_train_chunk = simulate_ricker(n_pro_chunk, n_points=n_points)\n",
    "        X_train_chunk, theta_train_chunk = add_noise_var(X_train_chunk, theta_train_chunk)\n",
    "        X_train_chunk = summary_net(X_train_chunk, training=False).numpy()\n",
    "        \n",
    "        X_train.append(X_train_chunk)\n",
    "        theta_train.append(theta_train_chunk.numpy())\n",
    "        \n",
    "        if i % 10 == 0:\n",
    "            print('Simulated {} chunks a {} datasets'.format(i, n_pro_chunk))\n",
    "        \n",
    "    return np.concatenate(X_train, axis=0), np.concatenate(theta_train, axis=0)"
   ]
  },
  {
   "cell_type": "code",
   "execution_count": null,
   "metadata": {},
   "outputs": [],
   "source": [
    "n_simulation_train = 100000\n",
    "X_train_ricker, theta_train_ricker = simulate_ricker_abcrf(n_simulation_train, model.summary_net)\n",
    "np.savetxt('./sim_data/ricker_reftable/X_train.csv', X_train_ricker, delimiter=';')\n",
    "np.savetxt('./sim_data/ricker_reftable/theta_train.csv', theta_train_ricker, delimiter=';')"
   ]
  },
  {
   "cell_type": "markdown",
   "metadata": {},
   "source": [
    "## Evaluate the model"
   ]
  },
  {
   "cell_type": "code",
   "execution_count": null,
   "metadata": {},
   "outputs": [],
   "source": [
    "theta_hat = np.loadtxt('./sim_data/ricker_results/theta_means_rf.csv', delimiter=';', skiprows=1)"
   ]
  },
  {
   "cell_type": "code",
   "execution_count": null,
   "metadata": {},
   "outputs": [],
   "source": [
    "plot_true_est_scatter(None, None, theta_test, n_samples_posterior, param_names, theta_approx_means=theta_hat)"
   ]
  },
  {
   "cell_type": "markdown",
   "metadata": {},
   "source": [
    "# PYABC - ABC-SMC"
   ]
  },
  {
   "cell_type": "code",
   "execution_count": null,
   "metadata": {},
   "outputs": [],
   "source": [
    "import pyabc\n",
    "import tempfile\n",
    "import os"
   ]
  },
  {
   "cell_type": "markdown",
   "metadata": {},
   "source": [
    "## Summary network"
   ]
  },
  {
   "cell_type": "code",
   "execution_count": null,
   "metadata": {},
   "outputs": [],
   "source": [
    "inv_meta = {\n",
    "    'n_units': [64, 64, 64, 64],\n",
    "    'activation': 'elu',\n",
    "    'w_decay': 0.00001,\n",
    "    'initializer': 'glorot_uniform'\n",
    "}\n",
    "summary_dim = 64\n",
    "param_names = [r'$r$', r'$\\sigma$', r'$\\rho$', r'u']\n",
    "theta_dim = 4\n",
    "summary_dim = 64\n",
    "n_inv_blocks = 10\n",
    "global_step = tfe.Variable(0, dtype=tf.int32)\n",
    "\n",
    "\n",
    "\n",
    "summary_net = SequenceNetwork(h_lstm_dim=summary_dim)\n",
    "model = DeepConditionalModel(inv_meta, n_inv_blocks, theta_dim, summary_net=summary_net, permute=True)\n",
    "optimizer = tf.train.AdamOptimizer(learning_rate=learning_rate)\n",
    "\n",
    "checkpoint = tf.train.Checkpoint(step=global_step, net=model)\n",
    "manager = tf.train.CheckpointManager(checkpoint, './checkpoints/ricker', max_to_keep=5)\n",
    "checkpoint.restore(manager.latest_checkpoint)"
   ]
  },
  {
   "cell_type": "markdown",
   "metadata": {},
   "source": [
    "## Load test data"
   ]
  },
  {
   "cell_type": "code",
   "execution_count": null,
   "metadata": {},
   "outputs": [],
   "source": [
    "X_test, theta_test = load_test_ricker()\n",
    "X_test = model.summary_net(X_test, training=False).numpy()"
   ]
  },
  {
   "cell_type": "markdown",
   "metadata": {},
   "source": [
    "## PYABC simulator function"
   ]
  },
  {
   "cell_type": "code",
   "execution_count": null,
   "metadata": {},
   "outputs": [],
   "source": [
    "def pyabc_simulator(parameters):\n",
    "    \"\"\"\n",
    "    Simulates from the Ricker model.\n",
    "    \"\"\"\n",
    "    \n",
    "    # Extract parameters\n",
    "    r = parameters['r']\n",
    "    sigma = parameters['sigma']\n",
    "    rho = parameters['rho']\n",
    "    \n",
    "    # Simulate a Ricker dataset and summarize using summary\n",
    "    data = simulate_ricker_params(np.array([[r, sigma, rho]]), to_tensor=True)\n",
    "    data = model.summary_net(data, training=False).numpy()\n",
    "    \n",
    "    return {\"data\": data}"
   ]
  },
  {
   "cell_type": "markdown",
   "metadata": {},
   "source": [
    "## Priors"
   ]
  },
  {
   "cell_type": "code",
   "execution_count": null,
   "metadata": {},
   "outputs": [],
   "source": [
    "prior = pyabc.Distribution(r=pyabc.RV(\"uniform\", 1, 90),\n",
    "                           sigma=pyabc.RV(\"uniform\", 0.05, 0.7),\n",
    "                           rho=pyabc.RV(\"uniform\", 0, 15),\n",
    "                           u=pyabc.RV(\"uniform\", 0, 1))"
   ]
  },
  {
   "cell_type": "markdown",
   "metadata": {},
   "source": [
    "## Distance"
   ]
  },
  {
   "cell_type": "code",
   "execution_count": null,
   "metadata": {},
   "outputs": [],
   "source": [
    "def distance(X, Y):\n",
    "    \"\"\"\n",
    "    Compute eucledean distance between the summaries.\n",
    "    \"\"\"\n",
    "\n",
    "    return np.sqrt(np.mean( (X['data'] - Y['data'])**2))"
   ]
  },
  {
   "cell_type": "code",
   "execution_count": null,
   "metadata": {},
   "outputs": [],
   "source": [
    "%%time\n",
    "\n",
    "# So slow that we probably need to run this in chunks\n",
    "\n",
    "n_test = int(X_test.shape[0])\n",
    "max_populations = 10\n",
    "min_epsilon = 0.1\n",
    "\n",
    "for i in range(n_test):\n",
    "    \n",
    "    print('Estimating', i, 'dataset...')\n",
    "    test_data = {'data': X_test[i:(i+1)]}\n",
    "    abc = pyabc.ABCSMC(pyabc_simulator, prior, distance, population_size=n_samples_posterior)\n",
    "\n",
    "    # db_path = (\"sqlite:///\" + os.path.join(tempfile.gettempdir(), \"test.db\"))\n",
    "    db_path = \"sqlite://\"\n",
    "    abc.new(db_path, test_data)\n",
    "    \n",
    "    history = abc.run(minimum_epsilon=min_epsilon, max_nr_populations=max_populations)\n",
    "    \n",
    "    r = history.get_distribution(m=0)[0]['r'].values\n",
    "    sigma = history.get_distribution(m=0)[0]['sigma'].values\n",
    "    rho = history.get_distribution(m=0)[0]['rho'].values\n",
    "    u = history.get_distribution(m=0)[0]['u'].values\n",
    "    theta_abc = np.stack((r, sigma, rho, u), axis=1)\n",
    "    \n",
    "    np.save('sim_data/ricker_results_abcsmc/{}_abc_posteriors.npy'.format(i+1), theta_abc)"
   ]
  },
  {
   "cell_type": "markdown",
   "metadata": {},
   "source": [
    "# ABC NeuralNet"
   ]
  },
  {
   "cell_type": "markdown",
   "metadata": {},
   "source": [
    "Use a neural network trained to output the posterior expectation of parameters as in Jiang et al. (2017)."
   ]
  },
  {
   "cell_type": "markdown",
   "metadata": {},
   "source": [
    "## Load test data"
   ]
  },
  {
   "cell_type": "code",
   "execution_count": null,
   "metadata": {},
   "outputs": [],
   "source": [
    "X_test, theta_test = load_test_ricker()"
   ]
  },
  {
   "cell_type": "code",
   "execution_count": null,
   "metadata": {},
   "outputs": [],
   "source": [
    "def simulate_ricker_abcnn(n_simulations, model, n_pro_chunk=1000, n_points=500):\n",
    "    \"\"\"\n",
    "    Simulates multiple Ricker simulations and summarizes them using the summaries from cINN.\n",
    "    Stores eveything in a list.\n",
    "    \"\"\"\n",
    "    \n",
    "    X_train = []\n",
    "    theta_train = []\n",
    "    n_chunks = n_simulations // n_pro_chunk\n",
    "    \n",
    "    for i in range(n_chunks):\n",
    "        \n",
    "        X_train_chunk, theta_train_chunk = simulate_ricker(n_pro_chunk, n_points=n_points)\n",
    "        X_train_chunk, theta_train_chunk = add_noise_var(X_train_chunk, theta_train_chunk)\n",
    "        X_train_chunk = model(X_train_chunk)[0].numpy()\n",
    "        \n",
    "        X_train.append(X_train_chunk)\n",
    "        theta_train.append(theta_train_chunk.numpy())\n",
    "        \n",
    "        if i % 10 == 0:\n",
    "            print('Simulated {} chunks a {} datasets'.format(i, n_pro_chunk))\n",
    "        \n",
    "    return np.concatenate(X_train, axis=0), np.concatenate(theta_train, axis=0)"
   ]
  },
  {
   "cell_type": "code",
   "execution_count": null,
   "metadata": {},
   "outputs": [],
   "source": [
    "# n_simulation_train = 300000\n",
    "# X_train_ricker, theta_train_ricker = simulate_ricker_abcnn(n_simulation_train, model)\n",
    "# np.savetxt('./sim_data/ricker_reftable/X_train_nn.csv', X_train_ricker, delimiter=';')\n",
    "# np.savetxt('./sim_data/ricker_reftable/theta_train_nn.csv', theta_train_ricker, delimiter=';')"
   ]
  },
  {
   "cell_type": "code",
   "execution_count": null,
   "metadata": {},
   "outputs": [],
   "source": [
    "# Summarize sumstats\n",
    "X_test_sum = model(X_test)[0].numpy()"
   ]
  },
  {
   "cell_type": "markdown",
   "metadata": {},
   "source": [
    "## Rejection sampling"
   ]
  },
  {
   "cell_type": "code",
   "execution_count": null,
   "metadata": {},
   "outputs": [],
   "source": [
    "def abc_reject(X_ref, theta_ref, X_test, n_samples=2000):\n",
    "    \"\"\"\n",
    "    Performs rejection sampling given ref table and X_test.\n",
    "    eps = n_samples / n_sim\n",
    "    \"\"\"\n",
    "    \n",
    "    # Standardize ref and test\n",
    "    X_ref_mean = X_ref.mean(0)\n",
    "    X_ref_std = X_ref.std(0, ddof=1)\n",
    "    X_ref = (X_ref - X_ref_mean) / X_ref_std\n",
    "    X_test = (X_test - X_ref_mean) / X_ref_std\n",
    "    \n",
    "    samples = []\n",
    "    \n",
    "    for i in range(X_test.shape[0]):\n",
    "        \n",
    "        # Compute distance, sort and get closest samples\n",
    "        samples_i = np.argsort(np.linalg.norm(X_ref - X_test[i], axis=1))[:n_samples]\n",
    "        samples.append(np.take(theta_ref, samples_i, axis=0))\n",
    "    return np.stack(samples, axis=1)"
   ]
  },
  {
   "cell_type": "code",
   "execution_count": null,
   "metadata": {},
   "outputs": [],
   "source": [
    "theta_approx_samples = abc_reject(X_train_ricker, theta_train_ricker, X_test_sum)"
   ]
  },
  {
   "cell_type": "code",
   "execution_count": null,
   "metadata": {},
   "outputs": [],
   "source": [
    "np.save('sim_data/ricker_results_abcnn/theta_samples_abcnn.npy', theta_approx_samples)"
   ]
  },
  {
   "cell_type": "code",
   "execution_count": null,
   "metadata": {},
   "outputs": [],
   "source": [
    "plot_true_est_scatter(None, None, theta_test, n_samples_posterior, \n",
    "                      param_names, theta_approx_means=theta_approx_samples.mean(0))"
   ]
  },
  {
   "cell_type": "code",
   "execution_count": null,
   "metadata": {},
   "outputs": [],
   "source": []
  },
  {
   "cell_type": "code",
   "execution_count": null,
   "metadata": {},
   "outputs": [],
   "source": []
  },
  {
   "cell_type": "code",
   "execution_count": null,
   "metadata": {},
   "outputs": [],
   "source": []
  },
  {
   "cell_type": "code",
   "execution_count": null,
   "metadata": {},
   "outputs": [],
   "source": [
    "b['rmse'].mean(0)"
   ]
  },
  {
   "cell_type": "code",
   "execution_count": null,
   "metadata": {},
   "outputs": [],
   "source": [
    "b['rmse'].std(0, ddof=1)"
   ]
  },
  {
   "cell_type": "code",
   "execution_count": null,
   "metadata": {},
   "outputs": [],
   "source": [
    "b['cal_err'].mean(0)"
   ]
  },
  {
   "cell_type": "code",
   "execution_count": null,
   "metadata": {},
   "outputs": [],
   "source": [
    "b['cal_err'].std(0)"
   ]
  }
 ],
 "metadata": {
  "kernelspec": {
   "display_name": "Python 3",
   "language": "python",
   "name": "python3"
  },
  "language_info": {
   "codemirror_mode": {
    "name": "ipython",
    "version": 3
   },
   "file_extension": ".py",
   "mimetype": "text/x-python",
   "name": "python",
   "nbconvert_exporter": "python",
   "pygments_lexer": "ipython3",
   "version": "3.6.8"
  },
  "toc": {
   "base_numbering": 1,
   "nav_menu": {},
   "number_sections": true,
   "sideBar": true,
   "skip_h1_title": false,
   "title_cell": "Table of Contents",
   "title_sidebar": "Contents",
   "toc_cell": false,
   "toc_position": {
    "height": "calc(100% - 180px)",
    "left": "10px",
    "top": "150px",
    "width": "195.6px"
   },
   "toc_section_display": true,
   "toc_window_display": true
  }
 },
 "nbformat": 4,
 "nbformat_minor": 2
}
